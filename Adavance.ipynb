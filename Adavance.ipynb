{
 "cells": [
  {
   "cell_type": "code",
   "execution_count": 2,
   "metadata": {},
   "outputs": [],
   "source": [
    "import pandas as pd\n",
    "import numpy as np"
   ]
  },
  {
   "cell_type": "markdown",
   "metadata": {},
   "source": [
    "***Merge***"
   ]
  },
  {
   "cell_type": "code",
   "execution_count": 19,
   "metadata": {},
   "outputs": [
    {
     "data": {
      "application/vnd.microsoft.datawrangler.viewer.v0+json": {
       "columns": [
        {
         "name": "index",
         "rawType": "int64",
         "type": "integer"
        },
        {
         "name": "a",
         "rawType": "int64",
         "type": "integer"
        },
        {
         "name": "b",
         "rawType": "object",
         "type": "unknown"
        },
        {
         "name": "c",
         "rawType": "float64",
         "type": "float"
        },
        {
         "name": "_merge",
         "rawType": "category",
         "type": "unknown"
        }
       ],
       "ref": "63a1db68-56c6-4795-b34a-1e3ba8a28b92",
       "rows": [
        [
         "0",
         "1",
         "6",
         "16.0",
         "both"
        ],
        [
         "1",
         "2",
         "7",
         "11.0",
         "both"
        ],
        [
         "2",
         "3",
         "a",
         "8.0",
         "both"
        ],
        [
         "3",
         "4",
         "9",
         "17.0",
         "both"
        ],
        [
         "4",
         "5",
         "10",
         null,
         "left_only"
        ],
        [
         "5",
         "6",
         null,
         "10.0",
         "right_only"
        ]
       ],
       "shape": {
        "columns": 4,
        "rows": 6
       }
      },
      "text/html": [
       "<div>\n",
       "<style scoped>\n",
       "    .dataframe tbody tr th:only-of-type {\n",
       "        vertical-align: middle;\n",
       "    }\n",
       "\n",
       "    .dataframe tbody tr th {\n",
       "        vertical-align: top;\n",
       "    }\n",
       "\n",
       "    .dataframe thead th {\n",
       "        text-align: right;\n",
       "    }\n",
       "</style>\n",
       "<table border=\"1\" class=\"dataframe\">\n",
       "  <thead>\n",
       "    <tr style=\"text-align: right;\">\n",
       "      <th></th>\n",
       "      <th>a</th>\n",
       "      <th>b</th>\n",
       "      <th>c</th>\n",
       "      <th>_merge</th>\n",
       "    </tr>\n",
       "  </thead>\n",
       "  <tbody>\n",
       "    <tr>\n",
       "      <th>0</th>\n",
       "      <td>1</td>\n",
       "      <td>6</td>\n",
       "      <td>16.0</td>\n",
       "      <td>both</td>\n",
       "    </tr>\n",
       "    <tr>\n",
       "      <th>1</th>\n",
       "      <td>2</td>\n",
       "      <td>7</td>\n",
       "      <td>11.0</td>\n",
       "      <td>both</td>\n",
       "    </tr>\n",
       "    <tr>\n",
       "      <th>2</th>\n",
       "      <td>3</td>\n",
       "      <td>a</td>\n",
       "      <td>8.0</td>\n",
       "      <td>both</td>\n",
       "    </tr>\n",
       "    <tr>\n",
       "      <th>3</th>\n",
       "      <td>4</td>\n",
       "      <td>9</td>\n",
       "      <td>17.0</td>\n",
       "      <td>both</td>\n",
       "    </tr>\n",
       "    <tr>\n",
       "      <th>4</th>\n",
       "      <td>5</td>\n",
       "      <td>10</td>\n",
       "      <td>NaN</td>\n",
       "      <td>left_only</td>\n",
       "    </tr>\n",
       "    <tr>\n",
       "      <th>5</th>\n",
       "      <td>6</td>\n",
       "      <td>NaN</td>\n",
       "      <td>10.0</td>\n",
       "      <td>right_only</td>\n",
       "    </tr>\n",
       "  </tbody>\n",
       "</table>\n",
       "</div>"
      ],
      "text/plain": [
       "   a    b     c      _merge\n",
       "0  1    6  16.0        both\n",
       "1  2    7  11.0        both\n",
       "2  3    a   8.0        both\n",
       "3  4    9  17.0        both\n",
       "4  5   10   NaN   left_only\n",
       "5  6  NaN  10.0  right_only"
      ]
     },
     "execution_count": 19,
     "metadata": {},
     "output_type": "execute_result"
    }
   ],
   "source": [
    "var = pd.DataFrame({\"a\":[1,2,3,4,5],\"b\":[6,7,\"a\",9,10]})\n",
    "var1 = pd.DataFrame({\"a\":[1,2,3,4,6],\"c\":[16,11,8,17,10]})\n",
    "# data = pd.merge(var,var1,on= \"a\")\n",
    "data = pd.merge(var,var1,how= \"outer\",indicator= True)\n",
    "data"
   ]
  },
  {
   "cell_type": "code",
   "execution_count": 4,
   "metadata": {},
   "outputs": [
    {
     "data": {
      "application/vnd.microsoft.datawrangler.viewer.v0+json": {
       "columns": [
        {
         "name": "index",
         "rawType": "int64",
         "type": "integer"
        },
        {
         "name": "amarjan",
         "rawType": "int64",
         "type": "integer"
        },
        {
         "name": "bmarjan",
         "rawType": "int64",
         "type": "integer"
        },
        {
         "name": "abayezid",
         "rawType": "int64",
         "type": "integer"
        },
        {
         "name": "bbayezid",
         "rawType": "int64",
         "type": "integer"
        }
       ],
       "ref": "dc3ce18f-4876-4a80-bd14-c539c3d54685",
       "rows": [
        [
         "0",
         "1",
         "6",
         "1",
         "16"
        ],
        [
         "1",
         "2",
         "7",
         "2",
         "11"
        ],
        [
         "2",
         "3",
         "9",
         "3",
         "8"
        ],
        [
         "3",
         "4",
         "9",
         "4",
         "17"
        ],
        [
         "4",
         "5",
         "10",
         "5",
         "10"
        ]
       ],
       "shape": {
        "columns": 4,
        "rows": 5
       }
      },
      "text/html": [
       "<div>\n",
       "<style scoped>\n",
       "    .dataframe tbody tr th:only-of-type {\n",
       "        vertical-align: middle;\n",
       "    }\n",
       "\n",
       "    .dataframe tbody tr th {\n",
       "        vertical-align: top;\n",
       "    }\n",
       "\n",
       "    .dataframe thead th {\n",
       "        text-align: right;\n",
       "    }\n",
       "</style>\n",
       "<table border=\"1\" class=\"dataframe\">\n",
       "  <thead>\n",
       "    <tr style=\"text-align: right;\">\n",
       "      <th></th>\n",
       "      <th>amarjan</th>\n",
       "      <th>bmarjan</th>\n",
       "      <th>abayezid</th>\n",
       "      <th>bbayezid</th>\n",
       "    </tr>\n",
       "  </thead>\n",
       "  <tbody>\n",
       "    <tr>\n",
       "      <th>0</th>\n",
       "      <td>1</td>\n",
       "      <td>6</td>\n",
       "      <td>1</td>\n",
       "      <td>16</td>\n",
       "    </tr>\n",
       "    <tr>\n",
       "      <th>1</th>\n",
       "      <td>2</td>\n",
       "      <td>7</td>\n",
       "      <td>2</td>\n",
       "      <td>11</td>\n",
       "    </tr>\n",
       "    <tr>\n",
       "      <th>2</th>\n",
       "      <td>3</td>\n",
       "      <td>9</td>\n",
       "      <td>3</td>\n",
       "      <td>8</td>\n",
       "    </tr>\n",
       "    <tr>\n",
       "      <th>3</th>\n",
       "      <td>4</td>\n",
       "      <td>9</td>\n",
       "      <td>4</td>\n",
       "      <td>17</td>\n",
       "    </tr>\n",
       "    <tr>\n",
       "      <th>4</th>\n",
       "      <td>5</td>\n",
       "      <td>10</td>\n",
       "      <td>5</td>\n",
       "      <td>10</td>\n",
       "    </tr>\n",
       "  </tbody>\n",
       "</table>\n",
       "</div>"
      ],
      "text/plain": [
       "   amarjan  bmarjan  abayezid  bbayezid\n",
       "0        1        6         1        16\n",
       "1        2        7         2        11\n",
       "2        3        9         3         8\n",
       "3        4        9         4        17\n",
       "4        5       10         5        10"
      ]
     },
     "execution_count": 4,
     "metadata": {},
     "output_type": "execute_result"
    }
   ],
   "source": [
    "var2 = pd.DataFrame({\"a\":[1,2,3,4,5],\"b\":[6,7,9,9,10]})\n",
    "var3 = pd.DataFrame({\"a\":[1,2,3,4,5],\"b\":[16,11,8,17,10]})\n",
    "data1 = pd.merge(var2,var3,left_index=True,right_index=True,suffixes=(\"marjan\",\"bayezid\"))\n",
    "data1"
   ]
  },
  {
   "cell_type": "code",
   "execution_count": 5,
   "metadata": {},
   "outputs": [
    {
     "data": {
      "application/vnd.microsoft.datawrangler.viewer.v0+json": {
       "columns": [
        {
         "name": "index",
         "rawType": "int64",
         "type": "integer"
        },
        {
         "name": "0",
         "rawType": "object",
         "type": "unknown"
        }
       ],
       "ref": "8b517db0-080e-463f-a7d9-5b247fe632fe",
       "rows": [
        [
         "0",
         "1"
        ],
        [
         "1",
         "2"
        ],
        [
         "2",
         "3"
        ],
        [
         "3",
         "4"
        ],
        [
         "4",
         "a"
        ],
        [
         "0",
         "6"
        ],
        [
         "1",
         "7"
        ],
        [
         "2",
         "8"
        ],
        [
         "3",
         "9"
        ]
       ],
       "shape": {
        "columns": 1,
        "rows": 9
       }
      },
      "text/plain": [
       "0    1\n",
       "1    2\n",
       "2    3\n",
       "3    4\n",
       "4    a\n",
       "0    6\n",
       "1    7\n",
       "2    8\n",
       "3    9\n",
       "dtype: object"
      ]
     },
     "execution_count": 5,
     "metadata": {},
     "output_type": "execute_result"
    }
   ],
   "source": [
    "sr = pd.Series([1,2,3,4,\"a\"])\n",
    "sr1 = pd.Series([6,7,8,9])\n",
    "\n",
    "pd.concat([sr,sr1])\n"
   ]
  },
  {
   "cell_type": "code",
   "execution_count": 6,
   "metadata": {},
   "outputs": [
    {
     "data": {
      "application/vnd.microsoft.datawrangler.viewer.v0+json": {
       "columns": [
        {
         "name": "index",
         "rawType": "int64",
         "type": "integer"
        },
        {
         "name": "('d2', 'a')",
         "rawType": "int64",
         "type": "integer"
        },
        {
         "name": "('d2', 'b')",
         "rawType": "int64",
         "type": "integer"
        },
        {
         "name": "('d1', 'a')",
         "rawType": "float64",
         "type": "float"
        },
        {
         "name": "('d1', 'b')",
         "rawType": "float64",
         "type": "float"
        }
       ],
       "ref": "42f1e8e9-dbe1-409d-b2be-66e6b6a7365a",
       "rows": [
        [
         "0",
         "1",
         "6",
         "1.0",
         "16.0"
        ],
        [
         "1",
         "3",
         "7",
         "3.0",
         "11.0"
        ],
        [
         "2",
         "6",
         "9",
         "4.0",
         "17.0"
        ],
        [
         "3",
         "4",
         "9",
         "5.0",
         "10.0"
        ],
        [
         "4",
         "5",
         "10",
         null,
         null
        ]
       ],
       "shape": {
        "columns": 4,
        "rows": 5
       }
      },
      "text/html": [
       "<div>\n",
       "<style scoped>\n",
       "    .dataframe tbody tr th:only-of-type {\n",
       "        vertical-align: middle;\n",
       "    }\n",
       "\n",
       "    .dataframe tbody tr th {\n",
       "        vertical-align: top;\n",
       "    }\n",
       "\n",
       "    .dataframe thead tr th {\n",
       "        text-align: left;\n",
       "    }\n",
       "</style>\n",
       "<table border=\"1\" class=\"dataframe\">\n",
       "  <thead>\n",
       "    <tr>\n",
       "      <th></th>\n",
       "      <th colspan=\"2\" halign=\"left\">d2</th>\n",
       "      <th colspan=\"2\" halign=\"left\">d1</th>\n",
       "    </tr>\n",
       "    <tr>\n",
       "      <th></th>\n",
       "      <th>a</th>\n",
       "      <th>b</th>\n",
       "      <th>a</th>\n",
       "      <th>b</th>\n",
       "    </tr>\n",
       "  </thead>\n",
       "  <tbody>\n",
       "    <tr>\n",
       "      <th>0</th>\n",
       "      <td>1</td>\n",
       "      <td>6</td>\n",
       "      <td>1.0</td>\n",
       "      <td>16.0</td>\n",
       "    </tr>\n",
       "    <tr>\n",
       "      <th>1</th>\n",
       "      <td>3</td>\n",
       "      <td>7</td>\n",
       "      <td>3.0</td>\n",
       "      <td>11.0</td>\n",
       "    </tr>\n",
       "    <tr>\n",
       "      <th>2</th>\n",
       "      <td>6</td>\n",
       "      <td>9</td>\n",
       "      <td>4.0</td>\n",
       "      <td>17.0</td>\n",
       "    </tr>\n",
       "    <tr>\n",
       "      <th>3</th>\n",
       "      <td>4</td>\n",
       "      <td>9</td>\n",
       "      <td>5.0</td>\n",
       "      <td>10.0</td>\n",
       "    </tr>\n",
       "    <tr>\n",
       "      <th>4</th>\n",
       "      <td>5</td>\n",
       "      <td>10</td>\n",
       "      <td>NaN</td>\n",
       "      <td>NaN</td>\n",
       "    </tr>\n",
       "  </tbody>\n",
       "</table>\n",
       "</div>"
      ],
      "text/plain": [
       "  d2       d1      \n",
       "   a   b    a     b\n",
       "0  1   6  1.0  16.0\n",
       "1  3   7  3.0  11.0\n",
       "2  6   9  4.0  17.0\n",
       "3  4   9  5.0  10.0\n",
       "4  5  10  NaN   NaN"
      ]
     },
     "execution_count": 6,
     "metadata": {},
     "output_type": "execute_result"
    }
   ],
   "source": [
    "var4 = pd.DataFrame({\"a\":[1,3,6,4,5],\"b\":[6,7,9,9,10]})\n",
    "var5 = pd.DataFrame({\"a\":[1,3,4,5],\"b\":[16,11,17,10]},dtype = \"int32\")\n",
    "pd.concat([var4,var5],axis=1,join=\"outer\",keys=(\"d2\",\"d1\"),)"
   ]
  },
  {
   "cell_type": "markdown",
   "metadata": {},
   "source": [
    "***Groupby***"
   ]
  },
  {
   "cell_type": "code",
   "execution_count": 7,
   "metadata": {},
   "outputs": [
    {
     "data": {
      "application/vnd.microsoft.datawrangler.viewer.v0+json": {
       "columns": [
        {
         "name": "index",
         "rawType": "int64",
         "type": "integer"
        },
        {
         "name": "grade",
         "rawType": "object",
         "type": "string"
        },
        {
         "name": "science",
         "rawType": "int64",
         "type": "integer"
        },
        {
         "name": "Arts",
         "rawType": "int64",
         "type": "integer"
        }
       ],
       "ref": "a7477583-0260-498b-8bea-94b3a99dbf49",
       "rows": [
        [
         "0",
         "a",
         "67",
         "12"
        ],
        [
         "1",
         "b",
         "56",
         "35"
        ],
        [
         "2",
         "a",
         "89",
         "56"
        ],
        [
         "3",
         "b",
         "67",
         "87"
        ],
        [
         "4",
         "c",
         "67",
         "45"
        ]
       ],
       "shape": {
        "columns": 3,
        "rows": 5
       }
      },
      "text/html": [
       "<div>\n",
       "<style scoped>\n",
       "    .dataframe tbody tr th:only-of-type {\n",
       "        vertical-align: middle;\n",
       "    }\n",
       "\n",
       "    .dataframe tbody tr th {\n",
       "        vertical-align: top;\n",
       "    }\n",
       "\n",
       "    .dataframe thead th {\n",
       "        text-align: right;\n",
       "    }\n",
       "</style>\n",
       "<table border=\"1\" class=\"dataframe\">\n",
       "  <thead>\n",
       "    <tr style=\"text-align: right;\">\n",
       "      <th></th>\n",
       "      <th>grade</th>\n",
       "      <th>science</th>\n",
       "      <th>Arts</th>\n",
       "    </tr>\n",
       "  </thead>\n",
       "  <tbody>\n",
       "    <tr>\n",
       "      <th>0</th>\n",
       "      <td>a</td>\n",
       "      <td>67</td>\n",
       "      <td>12</td>\n",
       "    </tr>\n",
       "    <tr>\n",
       "      <th>1</th>\n",
       "      <td>b</td>\n",
       "      <td>56</td>\n",
       "      <td>35</td>\n",
       "    </tr>\n",
       "    <tr>\n",
       "      <th>2</th>\n",
       "      <td>a</td>\n",
       "      <td>89</td>\n",
       "      <td>56</td>\n",
       "    </tr>\n",
       "    <tr>\n",
       "      <th>3</th>\n",
       "      <td>b</td>\n",
       "      <td>67</td>\n",
       "      <td>87</td>\n",
       "    </tr>\n",
       "    <tr>\n",
       "      <th>4</th>\n",
       "      <td>c</td>\n",
       "      <td>67</td>\n",
       "      <td>45</td>\n",
       "    </tr>\n",
       "  </tbody>\n",
       "</table>\n",
       "</div>"
      ],
      "text/plain": [
       "  grade  science  Arts\n",
       "0     a       67    12\n",
       "1     b       56    35\n",
       "2     a       89    56\n",
       "3     b       67    87\n",
       "4     c       67    45"
      ]
     },
     "execution_count": 7,
     "metadata": {},
     "output_type": "execute_result"
    }
   ],
   "source": [
    "students = pd.DataFrame({\n",
    "    \"grade\": [\"a\",\"b\",\"a\",\"b\",\"c\",\"d\",\"b\",\"c\",\"d\",\"a\",\"d\",\"b\"],\n",
    "    \"science\": [67,56,89,67,67,98,65,45,78,45,34,67],\n",
    "    \"Arts\": [12,35,56,87,45,75,45,67,45,68,35,56]\n",
    "})\n",
    "students.head()"
   ]
  },
  {
   "cell_type": "code",
   "execution_count": 8,
   "metadata": {},
   "outputs": [
    {
     "name": "stdout",
     "output_type": "stream",
     "text": [
      "a\n",
      "  grade  science  Arts\n",
      "0     a       67    12\n",
      "2     a       89    56\n",
      "9     a       45    68 \n",
      "\n",
      "b\n",
      "   grade  science  Arts\n",
      "1      b       56    35\n",
      "3      b       67    87\n",
      "6      b       65    45\n",
      "11     b       67    56 \n",
      "\n",
      "c\n",
      "  grade  science  Arts\n",
      "4     c       67    45\n",
      "7     c       45    67 \n",
      "\n",
      "d\n",
      "   grade  science  Arts\n",
      "5      d       98    75\n",
      "8      d       78    45\n",
      "10     d       34    35 \n",
      "\n"
     ]
    }
   ],
   "source": [
    "grade = students.groupby(\"grade\")\n",
    "\n",
    "for i,j in grade:\n",
    "    print(i)\n",
    "    print(j,\"\\n\")\n"
   ]
  },
  {
   "cell_type": "code",
   "execution_count": 9,
   "metadata": {},
   "outputs": [
    {
     "data": {
      "application/vnd.microsoft.datawrangler.viewer.v0+json": {
       "columns": [
        {
         "name": "index",
         "rawType": "int64",
         "type": "integer"
        },
        {
         "name": "grade",
         "rawType": "object",
         "type": "string"
        },
        {
         "name": "science",
         "rawType": "int64",
         "type": "integer"
        },
        {
         "name": "Arts",
         "rawType": "int64",
         "type": "integer"
        }
       ],
       "ref": "261312ce-510f-44a0-a7a2-177f99d9df89",
       "rows": [
        [
         "0",
         "a",
         "67",
         "12"
        ],
        [
         "2",
         "a",
         "89",
         "56"
        ],
        [
         "9",
         "a",
         "45",
         "68"
        ]
       ],
       "shape": {
        "columns": 3,
        "rows": 3
       }
      },
      "text/html": [
       "<div>\n",
       "<style scoped>\n",
       "    .dataframe tbody tr th:only-of-type {\n",
       "        vertical-align: middle;\n",
       "    }\n",
       "\n",
       "    .dataframe tbody tr th {\n",
       "        vertical-align: top;\n",
       "    }\n",
       "\n",
       "    .dataframe thead th {\n",
       "        text-align: right;\n",
       "    }\n",
       "</style>\n",
       "<table border=\"1\" class=\"dataframe\">\n",
       "  <thead>\n",
       "    <tr style=\"text-align: right;\">\n",
       "      <th></th>\n",
       "      <th>grade</th>\n",
       "      <th>science</th>\n",
       "      <th>Arts</th>\n",
       "    </tr>\n",
       "  </thead>\n",
       "  <tbody>\n",
       "    <tr>\n",
       "      <th>0</th>\n",
       "      <td>a</td>\n",
       "      <td>67</td>\n",
       "      <td>12</td>\n",
       "    </tr>\n",
       "    <tr>\n",
       "      <th>2</th>\n",
       "      <td>a</td>\n",
       "      <td>89</td>\n",
       "      <td>56</td>\n",
       "    </tr>\n",
       "    <tr>\n",
       "      <th>9</th>\n",
       "      <td>a</td>\n",
       "      <td>45</td>\n",
       "      <td>68</td>\n",
       "    </tr>\n",
       "  </tbody>\n",
       "</table>\n",
       "</div>"
      ],
      "text/plain": [
       "  grade  science  Arts\n",
       "0     a       67    12\n",
       "2     a       89    56\n",
       "9     a       45    68"
      ]
     },
     "execution_count": 9,
     "metadata": {},
     "output_type": "execute_result"
    }
   ],
   "source": [
    "grade.get_group(\"a\")\n",
    "# grade.get_group(\"b\")\n",
    "# grade.get_group(\"c\")\n",
    "# grade.get_group(\"d\")"
   ]
  },
  {
   "cell_type": "code",
   "execution_count": 10,
   "metadata": {},
   "outputs": [
    {
     "name": "stdout",
     "output_type": "stream",
     "text": [
      "min        science  Arts\n",
      "grade               \n",
      "a           45    12\n",
      "b           56    35\n",
      "c           45    45\n",
      "d           34    35\n",
      "max        science  Arts\n",
      "grade               \n",
      "a           89    68\n",
      "b           67    87\n",
      "c           67    67\n",
      "d           98    75\n",
      "avg        science  Arts\n",
      "grade               \n",
      "a         67.0  45.0\n",
      "b         64.0  56.0\n",
      "c         56.0  56.0\n",
      "d         70.0  52.0\n"
     ]
    }
   ],
   "source": [
    "print(\"min\",(grade.min()))\n",
    "print(\"max\",grade.max())\n",
    "print(\"avg\",grade.mean().round())"
   ]
  },
  {
   "cell_type": "code",
   "execution_count": 11,
   "metadata": {},
   "outputs": [
    {
     "data": {
      "text/plain": [
       "[('a',\n",
       "    grade  science  Arts\n",
       "  0     a       67    12\n",
       "  2     a       89    56\n",
       "  9     a       45    68),\n",
       " ('b',\n",
       "     grade  science  Arts\n",
       "  1      b       56    35\n",
       "  3      b       67    87\n",
       "  6      b       65    45\n",
       "  11     b       67    56),\n",
       " ('c',\n",
       "    grade  science  Arts\n",
       "  4     c       67    45\n",
       "  7     c       45    67),\n",
       " ('d',\n",
       "     grade  science  Arts\n",
       "  5      d       98    75\n",
       "  8      d       78    45\n",
       "  10     d       34    35)]"
      ]
     },
     "execution_count": 11,
     "metadata": {},
     "output_type": "execute_result"
    }
   ],
   "source": [
    "lst = list(grade)\n",
    "lst"
   ]
  },
  {
   "cell_type": "markdown",
   "metadata": {},
   "source": [
    "***join***"
   ]
  },
  {
   "cell_type": "code",
   "execution_count": 12,
   "metadata": {},
   "outputs": [
    {
     "data": {
      "application/vnd.microsoft.datawrangler.viewer.v0+json": {
       "columns": [
        {
         "name": "index",
         "rawType": "object",
         "type": "string"
        },
        {
         "name": "a",
         "rawType": "int64",
         "type": "integer"
        },
        {
         "name": "b",
         "rawType": "int64",
         "type": "integer"
        },
        {
         "name": "c",
         "rawType": "int64",
         "type": "integer"
        },
        {
         "name": "d",
         "rawType": "int64",
         "type": "integer"
        }
       ],
       "ref": "82d1add8-1eb3-49ff-8084-e9b77cc6cfc0",
       "rows": [
        [
         "a",
         "1",
         "6",
         "1",
         "11"
        ],
        [
         "b",
         "2",
         "7",
         "2",
         "8"
        ],
        [
         "c",
         "3",
         "9",
         "5",
         "17"
        ]
       ],
       "shape": {
        "columns": 4,
        "rows": 3
       }
      },
      "text/html": [
       "<div>\n",
       "<style scoped>\n",
       "    .dataframe tbody tr th:only-of-type {\n",
       "        vertical-align: middle;\n",
       "    }\n",
       "\n",
       "    .dataframe tbody tr th {\n",
       "        vertical-align: top;\n",
       "    }\n",
       "\n",
       "    .dataframe thead th {\n",
       "        text-align: right;\n",
       "    }\n",
       "</style>\n",
       "<table border=\"1\" class=\"dataframe\">\n",
       "  <thead>\n",
       "    <tr style=\"text-align: right;\">\n",
       "      <th></th>\n",
       "      <th>a</th>\n",
       "      <th>b</th>\n",
       "      <th>c</th>\n",
       "      <th>d</th>\n",
       "    </tr>\n",
       "  </thead>\n",
       "  <tbody>\n",
       "    <tr>\n",
       "      <th>a</th>\n",
       "      <td>1</td>\n",
       "      <td>6</td>\n",
       "      <td>1</td>\n",
       "      <td>11</td>\n",
       "    </tr>\n",
       "    <tr>\n",
       "      <th>b</th>\n",
       "      <td>2</td>\n",
       "      <td>7</td>\n",
       "      <td>2</td>\n",
       "      <td>8</td>\n",
       "    </tr>\n",
       "    <tr>\n",
       "      <th>c</th>\n",
       "      <td>3</td>\n",
       "      <td>9</td>\n",
       "      <td>5</td>\n",
       "      <td>17</td>\n",
       "    </tr>\n",
       "  </tbody>\n",
       "</table>\n",
       "</div>"
      ],
      "text/plain": [
       "   a  b  c   d\n",
       "a  1  6  1  11\n",
       "b  2  7  2   8\n",
       "c  3  9  5  17"
      ]
     },
     "execution_count": 12,
     "metadata": {},
     "output_type": "execute_result"
    }
   ],
   "source": [
    "var2 = pd.DataFrame({\"a\":[1,2,3,4,5],\"b\":[6,7,9,9,10]},index=[\"a\",\"b\",\"c\",\"d\",\"e\"])\n",
    "var3 = pd.DataFrame({\"c\":[1,2,5],\"d\":[11,8,17]},index=[\"a\",\"b\",\"c\"])\n",
    "\n",
    "var2.join(var3,how=\"inner\")"
   ]
  },
  {
   "cell_type": "code",
   "execution_count": 13,
   "metadata": {},
   "outputs": [
    {
     "data": {
      "application/vnd.microsoft.datawrangler.viewer.v0+json": {
       "columns": [
        {
         "name": "index",
         "rawType": "object",
         "type": "string"
        },
        {
         "name": "c",
         "rawType": "float64",
         "type": "float"
        },
        {
         "name": "d",
         "rawType": "float64",
         "type": "float"
        },
        {
         "name": "a",
         "rawType": "int64",
         "type": "integer"
        },
        {
         "name": "b",
         "rawType": "int64",
         "type": "integer"
        }
       ],
       "ref": "30fcb9c4-da47-44f4-b21c-8b9828fa80a2",
       "rows": [
        [
         "a",
         "1.0",
         "11.0",
         "1",
         "6"
        ],
        [
         "b",
         "2.0",
         "8.0",
         "2",
         "7"
        ],
        [
         "c",
         "5.0",
         "17.0",
         "3",
         "9"
        ],
        [
         "d",
         null,
         null,
         "4",
         "9"
        ],
        [
         "e",
         null,
         null,
         "5",
         "10"
        ]
       ],
       "shape": {
        "columns": 4,
        "rows": 5
       }
      },
      "text/html": [
       "<div>\n",
       "<style scoped>\n",
       "    .dataframe tbody tr th:only-of-type {\n",
       "        vertical-align: middle;\n",
       "    }\n",
       "\n",
       "    .dataframe tbody tr th {\n",
       "        vertical-align: top;\n",
       "    }\n",
       "\n",
       "    .dataframe thead th {\n",
       "        text-align: right;\n",
       "    }\n",
       "</style>\n",
       "<table border=\"1\" class=\"dataframe\">\n",
       "  <thead>\n",
       "    <tr style=\"text-align: right;\">\n",
       "      <th></th>\n",
       "      <th>c</th>\n",
       "      <th>d</th>\n",
       "      <th>a</th>\n",
       "      <th>b</th>\n",
       "    </tr>\n",
       "  </thead>\n",
       "  <tbody>\n",
       "    <tr>\n",
       "      <th>a</th>\n",
       "      <td>1.0</td>\n",
       "      <td>11.0</td>\n",
       "      <td>1</td>\n",
       "      <td>6</td>\n",
       "    </tr>\n",
       "    <tr>\n",
       "      <th>b</th>\n",
       "      <td>2.0</td>\n",
       "      <td>8.0</td>\n",
       "      <td>2</td>\n",
       "      <td>7</td>\n",
       "    </tr>\n",
       "    <tr>\n",
       "      <th>c</th>\n",
       "      <td>5.0</td>\n",
       "      <td>17.0</td>\n",
       "      <td>3</td>\n",
       "      <td>9</td>\n",
       "    </tr>\n",
       "    <tr>\n",
       "      <th>d</th>\n",
       "      <td>NaN</td>\n",
       "      <td>NaN</td>\n",
       "      <td>4</td>\n",
       "      <td>9</td>\n",
       "    </tr>\n",
       "    <tr>\n",
       "      <th>e</th>\n",
       "      <td>NaN</td>\n",
       "      <td>NaN</td>\n",
       "      <td>5</td>\n",
       "      <td>10</td>\n",
       "    </tr>\n",
       "  </tbody>\n",
       "</table>\n",
       "</div>"
      ],
      "text/plain": [
       "     c     d  a   b\n",
       "a  1.0  11.0  1   6\n",
       "b  2.0   8.0  2   7\n",
       "c  5.0  17.0  3   9\n",
       "d  NaN   NaN  4   9\n",
       "e  NaN   NaN  5  10"
      ]
     },
     "execution_count": 13,
     "metadata": {},
     "output_type": "execute_result"
    }
   ],
   "source": [
    "# var3.join(var2,how = \"right\")\n",
    "# var3.join(var2,how = \"left\")\n",
    "var3.join(var2,how = \"outer\",lsuffix=\"l\",rsuffix= \"r\")\n",
    "# var3.join(var2,how = \"inner\")\n"
   ]
  },
  {
   "cell_type": "code",
   "execution_count": 14,
   "metadata": {},
   "outputs": [
    {
     "data": {
      "application/vnd.microsoft.datawrangler.viewer.v0+json": {
       "columns": [
        {
         "name": "index",
         "rawType": "int64",
         "type": "integer"
        },
        {
         "name": "a",
         "rawType": "float64",
         "type": "float"
        },
        {
         "name": "b",
         "rawType": "float64",
         "type": "float"
        },
        {
         "name": "c",
         "rawType": "float64",
         "type": "float"
        }
       ],
       "ref": "9e4cb420-5501-4b41-82f5-3766ebd3c592",
       "rows": [
        [
         "0",
         "1.0",
         "6.0",
         null
        ],
        [
         "1",
         "2.0",
         "7.0",
         null
        ],
        [
         "2",
         "3.0",
         "8.0",
         null
        ],
        [
         "3",
         "4.0",
         "9.0",
         null
        ],
        [
         "4",
         "5.0",
         "10.0",
         null
        ],
        [
         "0",
         null,
         null,
         "1.0"
        ],
        [
         "1",
         null,
         null,
         "2.0"
        ],
        [
         "2",
         null,
         null,
         "3.0"
        ],
        [
         "3",
         null,
         null,
         "4.0"
        ],
        [
         "4",
         null,
         null,
         "5.0"
        ],
        [
         "5",
         null,
         null,
         "6.0"
        ],
        [
         "6",
         null,
         null,
         "7.0"
        ],
        [
         "7",
         null,
         null,
         "8.0"
        ],
        [
         "8",
         null,
         null,
         "9.0"
        ]
       ],
       "shape": {
        "columns": 3,
        "rows": 14
       }
      },
      "text/html": [
       "<div>\n",
       "<style scoped>\n",
       "    .dataframe tbody tr th:only-of-type {\n",
       "        vertical-align: middle;\n",
       "    }\n",
       "\n",
       "    .dataframe tbody tr th {\n",
       "        vertical-align: top;\n",
       "    }\n",
       "\n",
       "    .dataframe thead th {\n",
       "        text-align: right;\n",
       "    }\n",
       "</style>\n",
       "<table border=\"1\" class=\"dataframe\">\n",
       "  <thead>\n",
       "    <tr style=\"text-align: right;\">\n",
       "      <th></th>\n",
       "      <th>a</th>\n",
       "      <th>b</th>\n",
       "      <th>c</th>\n",
       "    </tr>\n",
       "  </thead>\n",
       "  <tbody>\n",
       "    <tr>\n",
       "      <th>0</th>\n",
       "      <td>1.0</td>\n",
       "      <td>6.0</td>\n",
       "      <td>NaN</td>\n",
       "    </tr>\n",
       "    <tr>\n",
       "      <th>1</th>\n",
       "      <td>2.0</td>\n",
       "      <td>7.0</td>\n",
       "      <td>NaN</td>\n",
       "    </tr>\n",
       "    <tr>\n",
       "      <th>2</th>\n",
       "      <td>3.0</td>\n",
       "      <td>8.0</td>\n",
       "      <td>NaN</td>\n",
       "    </tr>\n",
       "    <tr>\n",
       "      <th>3</th>\n",
       "      <td>4.0</td>\n",
       "      <td>9.0</td>\n",
       "      <td>NaN</td>\n",
       "    </tr>\n",
       "    <tr>\n",
       "      <th>4</th>\n",
       "      <td>5.0</td>\n",
       "      <td>10.0</td>\n",
       "      <td>NaN</td>\n",
       "    </tr>\n",
       "    <tr>\n",
       "      <th>0</th>\n",
       "      <td>NaN</td>\n",
       "      <td>NaN</td>\n",
       "      <td>1.0</td>\n",
       "    </tr>\n",
       "    <tr>\n",
       "      <th>1</th>\n",
       "      <td>NaN</td>\n",
       "      <td>NaN</td>\n",
       "      <td>2.0</td>\n",
       "    </tr>\n",
       "    <tr>\n",
       "      <th>2</th>\n",
       "      <td>NaN</td>\n",
       "      <td>NaN</td>\n",
       "      <td>3.0</td>\n",
       "    </tr>\n",
       "    <tr>\n",
       "      <th>3</th>\n",
       "      <td>NaN</td>\n",
       "      <td>NaN</td>\n",
       "      <td>4.0</td>\n",
       "    </tr>\n",
       "    <tr>\n",
       "      <th>4</th>\n",
       "      <td>NaN</td>\n",
       "      <td>NaN</td>\n",
       "      <td>5.0</td>\n",
       "    </tr>\n",
       "    <tr>\n",
       "      <th>5</th>\n",
       "      <td>NaN</td>\n",
       "      <td>NaN</td>\n",
       "      <td>6.0</td>\n",
       "    </tr>\n",
       "    <tr>\n",
       "      <th>6</th>\n",
       "      <td>NaN</td>\n",
       "      <td>NaN</td>\n",
       "      <td>7.0</td>\n",
       "    </tr>\n",
       "    <tr>\n",
       "      <th>7</th>\n",
       "      <td>NaN</td>\n",
       "      <td>NaN</td>\n",
       "      <td>8.0</td>\n",
       "    </tr>\n",
       "    <tr>\n",
       "      <th>8</th>\n",
       "      <td>NaN</td>\n",
       "      <td>NaN</td>\n",
       "      <td>9.0</td>\n",
       "    </tr>\n",
       "  </tbody>\n",
       "</table>\n",
       "</div>"
      ],
      "text/plain": [
       "     a     b    c\n",
       "0  1.0   6.0  NaN\n",
       "1  2.0   7.0  NaN\n",
       "2  3.0   8.0  NaN\n",
       "3  4.0   9.0  NaN\n",
       "4  5.0  10.0  NaN\n",
       "0  NaN   NaN  1.0\n",
       "1  NaN   NaN  2.0\n",
       "2  NaN   NaN  3.0\n",
       "3  NaN   NaN  4.0\n",
       "4  NaN   NaN  5.0\n",
       "5  NaN   NaN  6.0\n",
       "6  NaN   NaN  7.0\n",
       "7  NaN   NaN  8.0\n",
       "8  NaN   NaN  9.0"
      ]
     },
     "execution_count": 14,
     "metadata": {},
     "output_type": "execute_result"
    }
   ],
   "source": [
    "var = pd.DataFrame({\"a\":[1,2,3,4,5],\"b\":[6,7,8,9,10]})\n",
    "var1 = pd.DataFrame({\"c\":[1,2,3,4,5,6,7,8,9]})\n",
    "\n",
    "pd.concat((var,var1))"
   ]
  },
  {
   "cell_type": "markdown",
   "metadata": {},
   "source": [
    "***melt***"
   ]
  },
  {
   "cell_type": "code",
   "execution_count": 15,
   "metadata": {},
   "outputs": [],
   "source": [
    "study =pd.DataFrame({\"day\": [1,2,3,4,5],\n",
    "         \"math\": [3,5,7,3,5],\n",
    "         \"eng\": [45,4,65,54,68]})\n"
   ]
  },
  {
   "cell_type": "code",
   "execution_count": 16,
   "metadata": {},
   "outputs": [
    {
     "data": {
      "application/vnd.microsoft.datawrangler.viewer.v0+json": {
       "columns": [
        {
         "name": "index",
         "rawType": "int64",
         "type": "integer"
        },
        {
         "name": "day",
         "rawType": "int64",
         "type": "integer"
        },
        {
         "name": "sub",
         "rawType": "object",
         "type": "string"
        },
        {
         "name": "routine",
         "rawType": "int64",
         "type": "integer"
        }
       ],
       "ref": "27642aec-2eaf-4b1a-bcc7-3ead059072cd",
       "rows": [
        [
         "0",
         "1",
         "math",
         "3"
        ],
        [
         "1",
         "2",
         "math",
         "5"
        ],
        [
         "2",
         "3",
         "math",
         "7"
        ],
        [
         "3",
         "4",
         "math",
         "3"
        ],
        [
         "4",
         "5",
         "math",
         "5"
        ],
        [
         "5",
         "1",
         "eng",
         "45"
        ],
        [
         "6",
         "2",
         "eng",
         "4"
        ],
        [
         "7",
         "3",
         "eng",
         "65"
        ],
        [
         "8",
         "4",
         "eng",
         "54"
        ],
        [
         "9",
         "5",
         "eng",
         "68"
        ]
       ],
       "shape": {
        "columns": 3,
        "rows": 10
       }
      },
      "text/html": [
       "<div>\n",
       "<style scoped>\n",
       "    .dataframe tbody tr th:only-of-type {\n",
       "        vertical-align: middle;\n",
       "    }\n",
       "\n",
       "    .dataframe tbody tr th {\n",
       "        vertical-align: top;\n",
       "    }\n",
       "\n",
       "    .dataframe thead th {\n",
       "        text-align: right;\n",
       "    }\n",
       "</style>\n",
       "<table border=\"1\" class=\"dataframe\">\n",
       "  <thead>\n",
       "    <tr style=\"text-align: right;\">\n",
       "      <th></th>\n",
       "      <th>day</th>\n",
       "      <th>sub</th>\n",
       "      <th>routine</th>\n",
       "    </tr>\n",
       "  </thead>\n",
       "  <tbody>\n",
       "    <tr>\n",
       "      <th>0</th>\n",
       "      <td>1</td>\n",
       "      <td>math</td>\n",
       "      <td>3</td>\n",
       "    </tr>\n",
       "    <tr>\n",
       "      <th>1</th>\n",
       "      <td>2</td>\n",
       "      <td>math</td>\n",
       "      <td>5</td>\n",
       "    </tr>\n",
       "    <tr>\n",
       "      <th>2</th>\n",
       "      <td>3</td>\n",
       "      <td>math</td>\n",
       "      <td>7</td>\n",
       "    </tr>\n",
       "    <tr>\n",
       "      <th>3</th>\n",
       "      <td>4</td>\n",
       "      <td>math</td>\n",
       "      <td>3</td>\n",
       "    </tr>\n",
       "    <tr>\n",
       "      <th>4</th>\n",
       "      <td>5</td>\n",
       "      <td>math</td>\n",
       "      <td>5</td>\n",
       "    </tr>\n",
       "    <tr>\n",
       "      <th>5</th>\n",
       "      <td>1</td>\n",
       "      <td>eng</td>\n",
       "      <td>45</td>\n",
       "    </tr>\n",
       "    <tr>\n",
       "      <th>6</th>\n",
       "      <td>2</td>\n",
       "      <td>eng</td>\n",
       "      <td>4</td>\n",
       "    </tr>\n",
       "    <tr>\n",
       "      <th>7</th>\n",
       "      <td>3</td>\n",
       "      <td>eng</td>\n",
       "      <td>65</td>\n",
       "    </tr>\n",
       "    <tr>\n",
       "      <th>8</th>\n",
       "      <td>4</td>\n",
       "      <td>eng</td>\n",
       "      <td>54</td>\n",
       "    </tr>\n",
       "    <tr>\n",
       "      <th>9</th>\n",
       "      <td>5</td>\n",
       "      <td>eng</td>\n",
       "      <td>68</td>\n",
       "    </tr>\n",
       "  </tbody>\n",
       "</table>\n",
       "</div>"
      ],
      "text/plain": [
       "   day   sub  routine\n",
       "0    1  math        3\n",
       "1    2  math        5\n",
       "2    3  math        7\n",
       "3    4  math        3\n",
       "4    5  math        5\n",
       "5    1   eng       45\n",
       "6    2   eng        4\n",
       "7    3   eng       65\n",
       "8    4   eng       54\n",
       "9    5   eng       68"
      ]
     },
     "execution_count": 16,
     "metadata": {},
     "output_type": "execute_result"
    }
   ],
   "source": [
    "pd.melt(study,id_vars=\"day\",var_name=\"sub\",value_name=\"routine\")"
   ]
  },
  {
   "cell_type": "markdown",
   "metadata": {},
   "source": [
    "***pivot***"
   ]
  },
  {
   "cell_type": "code",
   "execution_count": 17,
   "metadata": {},
   "outputs": [
    {
     "data": {
      "application/vnd.microsoft.datawrangler.viewer.v0+json": {
       "columns": [
        {
         "name": "day",
         "rawType": "int64",
         "type": "integer"
        },
        {
         "name": "('math', 4)",
         "rawType": "float64",
         "type": "float"
        },
        {
         "name": "('math', 45)",
         "rawType": "float64",
         "type": "float"
        },
        {
         "name": "('math', 54)",
         "rawType": "float64",
         "type": "float"
        },
        {
         "name": "('math', 65)",
         "rawType": "float64",
         "type": "float"
        },
        {
         "name": "('math', 68)",
         "rawType": "float64",
         "type": "float"
        }
       ],
       "ref": "5c325cb9-509b-40f3-94fc-2c07f968b729",
       "rows": [
        [
         "1",
         null,
         "3.0",
         null,
         null,
         null
        ],
        [
         "2",
         "5.0",
         null,
         null,
         null,
         null
        ],
        [
         "3",
         null,
         null,
         null,
         "7.0",
         null
        ],
        [
         "4",
         null,
         null,
         "3.0",
         null,
         null
        ],
        [
         "5",
         null,
         null,
         null,
         null,
         "5.0"
        ]
       ],
       "shape": {
        "columns": 5,
        "rows": 5
       }
      },
      "text/html": [
       "<div>\n",
       "<style scoped>\n",
       "    .dataframe tbody tr th:only-of-type {\n",
       "        vertical-align: middle;\n",
       "    }\n",
       "\n",
       "    .dataframe tbody tr th {\n",
       "        vertical-align: top;\n",
       "    }\n",
       "\n",
       "    .dataframe thead tr th {\n",
       "        text-align: left;\n",
       "    }\n",
       "\n",
       "    .dataframe thead tr:last-of-type th {\n",
       "        text-align: right;\n",
       "    }\n",
       "</style>\n",
       "<table border=\"1\" class=\"dataframe\">\n",
       "  <thead>\n",
       "    <tr>\n",
       "      <th></th>\n",
       "      <th colspan=\"5\" halign=\"left\">math</th>\n",
       "    </tr>\n",
       "    <tr>\n",
       "      <th>eng</th>\n",
       "      <th>4</th>\n",
       "      <th>45</th>\n",
       "      <th>54</th>\n",
       "      <th>65</th>\n",
       "      <th>68</th>\n",
       "    </tr>\n",
       "    <tr>\n",
       "      <th>day</th>\n",
       "      <th></th>\n",
       "      <th></th>\n",
       "      <th></th>\n",
       "      <th></th>\n",
       "      <th></th>\n",
       "    </tr>\n",
       "  </thead>\n",
       "  <tbody>\n",
       "    <tr>\n",
       "      <th>1</th>\n",
       "      <td>NaN</td>\n",
       "      <td>3.0</td>\n",
       "      <td>NaN</td>\n",
       "      <td>NaN</td>\n",
       "      <td>NaN</td>\n",
       "    </tr>\n",
       "    <tr>\n",
       "      <th>2</th>\n",
       "      <td>5.0</td>\n",
       "      <td>NaN</td>\n",
       "      <td>NaN</td>\n",
       "      <td>NaN</td>\n",
       "      <td>NaN</td>\n",
       "    </tr>\n",
       "    <tr>\n",
       "      <th>3</th>\n",
       "      <td>NaN</td>\n",
       "      <td>NaN</td>\n",
       "      <td>NaN</td>\n",
       "      <td>7.0</td>\n",
       "      <td>NaN</td>\n",
       "    </tr>\n",
       "    <tr>\n",
       "      <th>4</th>\n",
       "      <td>NaN</td>\n",
       "      <td>NaN</td>\n",
       "      <td>3.0</td>\n",
       "      <td>NaN</td>\n",
       "      <td>NaN</td>\n",
       "    </tr>\n",
       "    <tr>\n",
       "      <th>5</th>\n",
       "      <td>NaN</td>\n",
       "      <td>NaN</td>\n",
       "      <td>NaN</td>\n",
       "      <td>NaN</td>\n",
       "      <td>5.0</td>\n",
       "    </tr>\n",
       "  </tbody>\n",
       "</table>\n",
       "</div>"
      ],
      "text/plain": [
       "    math                    \n",
       "eng   4    45   54   65   68\n",
       "day                         \n",
       "1    NaN  3.0  NaN  NaN  NaN\n",
       "2    5.0  NaN  NaN  NaN  NaN\n",
       "3    NaN  NaN  NaN  7.0  NaN\n",
       "4    NaN  NaN  3.0  NaN  NaN\n",
       "5    NaN  NaN  NaN  NaN  5.0"
      ]
     },
     "execution_count": 17,
     "metadata": {},
     "output_type": "execute_result"
    }
   ],
   "source": [
    "study.pivot_table(index=\"day\",columns=\"eng\")"
   ]
  },
  {
   "cell_type": "code",
   "execution_count": 18,
   "metadata": {},
   "outputs": [
    {
     "data": {
      "application/vnd.microsoft.datawrangler.viewer.v0+json": {
       "columns": [
        {
         "name": "day",
         "rawType": "object",
         "type": "unknown"
        },
        {
         "name": "('eng', 3)",
         "rawType": "float64",
         "type": "float"
        },
        {
         "name": "('eng', 5)",
         "rawType": "float64",
         "type": "float"
        },
        {
         "name": "('eng', 7)",
         "rawType": "float64",
         "type": "float"
        },
        {
         "name": "('eng', 'All')",
         "rawType": "int64",
         "type": "integer"
        }
       ],
       "ref": "fa40564f-38fa-46b0-9b40-5e74c3793d54",
       "rows": [
        [
         "1",
         "45.0",
         null,
         null,
         "45"
        ],
        [
         "2",
         null,
         "4.0",
         null,
         "4"
        ],
        [
         "3",
         null,
         null,
         "65.0",
         "65"
        ],
        [
         "4",
         "54.0",
         null,
         null,
         "54"
        ],
        [
         "5",
         null,
         "68.0",
         null,
         "68"
        ],
        [
         "All",
         "99.0",
         "72.0",
         "65.0",
         "236"
        ]
       ],
       "shape": {
        "columns": 4,
        "rows": 6
       }
      },
      "text/html": [
       "<div>\n",
       "<style scoped>\n",
       "    .dataframe tbody tr th:only-of-type {\n",
       "        vertical-align: middle;\n",
       "    }\n",
       "\n",
       "    .dataframe tbody tr th {\n",
       "        vertical-align: top;\n",
       "    }\n",
       "\n",
       "    .dataframe thead tr th {\n",
       "        text-align: left;\n",
       "    }\n",
       "\n",
       "    .dataframe thead tr:last-of-type th {\n",
       "        text-align: right;\n",
       "    }\n",
       "</style>\n",
       "<table border=\"1\" class=\"dataframe\">\n",
       "  <thead>\n",
       "    <tr>\n",
       "      <th></th>\n",
       "      <th colspan=\"4\" halign=\"left\">eng</th>\n",
       "    </tr>\n",
       "    <tr>\n",
       "      <th>math</th>\n",
       "      <th>3</th>\n",
       "      <th>5</th>\n",
       "      <th>7</th>\n",
       "      <th>All</th>\n",
       "    </tr>\n",
       "    <tr>\n",
       "      <th>day</th>\n",
       "      <th></th>\n",
       "      <th></th>\n",
       "      <th></th>\n",
       "      <th></th>\n",
       "    </tr>\n",
       "  </thead>\n",
       "  <tbody>\n",
       "    <tr>\n",
       "      <th>1</th>\n",
       "      <td>45.0</td>\n",
       "      <td>NaN</td>\n",
       "      <td>NaN</td>\n",
       "      <td>45</td>\n",
       "    </tr>\n",
       "    <tr>\n",
       "      <th>2</th>\n",
       "      <td>NaN</td>\n",
       "      <td>4.0</td>\n",
       "      <td>NaN</td>\n",
       "      <td>4</td>\n",
       "    </tr>\n",
       "    <tr>\n",
       "      <th>3</th>\n",
       "      <td>NaN</td>\n",
       "      <td>NaN</td>\n",
       "      <td>65.0</td>\n",
       "      <td>65</td>\n",
       "    </tr>\n",
       "    <tr>\n",
       "      <th>4</th>\n",
       "      <td>54.0</td>\n",
       "      <td>NaN</td>\n",
       "      <td>NaN</td>\n",
       "      <td>54</td>\n",
       "    </tr>\n",
       "    <tr>\n",
       "      <th>5</th>\n",
       "      <td>NaN</td>\n",
       "      <td>68.0</td>\n",
       "      <td>NaN</td>\n",
       "      <td>68</td>\n",
       "    </tr>\n",
       "    <tr>\n",
       "      <th>All</th>\n",
       "      <td>99.0</td>\n",
       "      <td>72.0</td>\n",
       "      <td>65.0</td>\n",
       "      <td>236</td>\n",
       "    </tr>\n",
       "  </tbody>\n",
       "</table>\n",
       "</div>"
      ],
      "text/plain": [
       "       eng                 \n",
       "math     3     5     7  All\n",
       "day                        \n",
       "1     45.0   NaN   NaN   45\n",
       "2      NaN   4.0   NaN    4\n",
       "3      NaN   NaN  65.0   65\n",
       "4     54.0   NaN   NaN   54\n",
       "5      NaN  68.0   NaN   68\n",
       "All   99.0  72.0  65.0  236"
      ]
     },
     "execution_count": 18,
     "metadata": {},
     "output_type": "execute_result"
    }
   ],
   "source": [
    "study.pivot_table(index=\"day\",columns=\"math\",aggfunc=\"sum\",margins=True)"
   ]
  },
  {
   "cell_type": "code",
   "execution_count": null,
   "metadata": {},
   "outputs": [],
   "source": []
  },
  {
   "cell_type": "markdown",
   "metadata": {},
   "source": [
    "## Notes \n",
    "\n",
    "This notebook demonstrates various built-in pandas functions for data manipulation and analysis. Below is a summary of the key functions used and their purposes:\n",
    "\n",
    "---\n",
    "\n",
    "### 1. `pd.DataFrame()`\n",
    "- **Purpose:** Creates a DataFrame from a dictionary or other data structures.\n",
    "- **Usage:** Used throughout the notebook to create sample datasets (`var`, `var1`, `var2`, `var3`, `var4`, `var5`, `students`, `study`).\n",
    "\n",
    "---\n",
    "\n",
    "### 2. `pd.Series()`\n",
    "- **Purpose:** Creates a one-dimensional labeled array.\n",
    "- **Usage:** Used to create sample series (`sr`, `sr1`) for concatenation.\n",
    "\n",
    "---\n",
    "\n",
    "### 3. `pd.merge()`\n",
    "- **Purpose:** Combines two DataFrames based on a common column or index.\n",
    "- **Usage:** \n",
    "    - `pd.merge(var, var1, on=\"a\")`: Merges on column 'a'.\n",
    "    - `pd.merge(var, var1, how=\"outer\", indicator=True)`: Outer merge with merge indicator.\n",
    "    - `pd.merge(var2, var3, left_index=True, right_index=True, suffixes=(\"marjan\",\"bayezid\"))`: Merges on index with suffixes.\n",
    "\n",
    "---\n",
    "\n",
    "### 4. `pd.concat()`\n",
    "- **Purpose:** Concatenates pandas objects along a particular axis.\n",
    "- **Usage:** \n",
    "    - Concatenates Series (`pd.concat([sr, sr1])`).\n",
    "    - Concatenates DataFrames side by side or vertically (`pd.concat([var4, var5], axis=1, join=\"outer\", keys=(\"d2\", \"d1\"))`).\n",
    "\n",
    "---\n",
    "\n",
    "### 5. `DataFrame.groupby()`\n",
    "- **Purpose:** Groups data based on one or more columns for aggregation.\n",
    "- **Usage:** \n",
    "    - `students.groupby(\"grade\")`: Groups students by grade for further analysis.\n",
    "\n",
    "---\n",
    "\n",
    "### 6. `GroupBy.get_group()`\n",
    "- **Purpose:** Retrieves a specific group from a grouped object.\n",
    "- **Usage:** \n",
    "    - `grade.get_group(\"d\")`: Gets all students with grade 'd'.\n",
    "\n",
    "---\n",
    "\n",
    "### 7. Aggregation Functions: `.min()`, `.max()`, `.mean()`\n",
    "- **Purpose:** Computes minimum, maximum, and mean values for each group.\n",
    "- **Usage:** \n",
    "    - `grade.min()`, `grade.max()`, `grade.mean()`: Aggregates science and arts scores by grade.\n",
    "\n",
    "---\n",
    "\n",
    "### 8. `pd.melt()`\n",
    "- **Purpose:** Unpivots a DataFrame from wide to long format.\n",
    "- **Usage:** \n",
    "    - `pd.melt(study, id_vars=\"day\", var_name=\"sub\", value_name=\"routine\")`: Converts subject columns into rows.\n",
    "\n",
    "---\n",
    "\n",
    "### 9. `DataFrame.pivot_table()`\n",
    "- **Purpose:** Creates a spreadsheet-style pivot table as a DataFrame.\n",
    "- **Usage:** \n",
    "    - `study.pivot_table(index=\"day\", columns=\"eng\")`\n",
    "    - `study.pivot_table(index=\"day\", columns=\"math\", aggfunc=\"sum\", margins=True)`\n",
    "\n",
    "---\n",
    "\n",
    "### 10. `DataFrame.join()`\n",
    "- **Purpose:** Joins columns of another DataFrame to the current DataFrame.\n",
    "- **Usage:** \n",
    "    - `var2.join(var3, how=\"inner\")`: Joins on index.\n",
    "    - `var3.join(var2, how=\"inner\", lsuffix=\"l\", rsuffix=\"r\")`: Joins with suffixes for overlapping columns.\n",
    "\n",
    "---\n",
    "\n",
    "### 11. Miscellaneous\n",
    "- **`list()`**: Converts a GroupBy object to a list of tuples for inspection.\n",
    "- **`DataFrame.head()`**: Displays the first few rows of a DataFrame.\n",
    "\n",
    "---\n",
    "\n",
    "## Summary Table\n",
    "\n",
    "| Function                | Purpose                                      | Example Usage                                   |\n",
    "|-------------------------|----------------------------------------------|-------------------------------------------------|\n",
    "| `pd.DataFrame()`        | Create DataFrame                             | `pd.DataFrame({...})`                           |\n",
    "| `pd.Series()`           | Create Series                                | `pd.Series([...])`                              |\n",
    "| `pd.merge()`            | Merge DataFrames                             | `pd.merge(df1, df2, on=\"col\")`                  |\n",
    "| `pd.concat()`           | Concatenate objects                          | `pd.concat([df1, df2], axis=1)`                 |\n",
    "| `groupby()`             | Group data                                   | `df.groupby(\"col\")`                             |\n",
    "| `get_group()`           | Get specific group                           | `group.get_group(\"value\")`                      |\n",
    "| `.min()`, `.max()`, `.mean()` | Aggregate statistics                  | `group.min()`, `group.max()`, `group.mean()`    |\n",
    "| `pd.melt()`             | Unpivot DataFrame                            | `pd.melt(df, id_vars=...)`                      |\n",
    "| `pivot_table()`         | Create pivot table                           | `df.pivot_table(index=..., columns=...)`        |\n",
    "| `join()`                | Join DataFrames on index                     | `df1.join(df2, how=\"inner\")`                    |\n",
    "| `list()`                | Convert to list                              | `list(group)`                                   |\n",
    "| `head()`                | Show first rows                              | `df.head()`                                     |\n",
    "\n",
    "---\n",
    "\n",
    "These functions form the backbone of pandas data manipulation and are essential for efficient data analysis workflows."
   ]
  }
 ],
 "metadata": {
  "kernelspec": {
   "display_name": "Python 3",
   "language": "python",
   "name": "python3"
  },
  "language_info": {
   "codemirror_mode": {
    "name": "ipython",
    "version": 3
   },
   "file_extension": ".py",
   "mimetype": "text/x-python",
   "name": "python",
   "nbconvert_exporter": "python",
   "pygments_lexer": "ipython3",
   "version": "3.11.9"
  }
 },
 "nbformat": 4,
 "nbformat_minor": 2
}
