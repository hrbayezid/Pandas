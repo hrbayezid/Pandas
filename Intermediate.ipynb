{
 "cells": [
  {
   "cell_type": "code",
   "execution_count": 127,
   "metadata": {},
   "outputs": [],
   "source": [
    "import numpy as np\n",
    "import pandas as pd"
   ]
  },
  {
   "cell_type": "code",
   "execution_count": 128,
   "metadata": {},
   "outputs": [
    {
     "data": {
      "application/vnd.microsoft.datawrangler.viewer.v0+json": {
       "columns": [
        {
         "name": "index",
         "rawType": "int64",
         "type": "integer"
        },
        {
         "name": "Index",
         "rawType": "float64",
         "type": "float"
        },
        {
         "name": "Customer Id",
         "rawType": "object",
         "type": "unknown"
        },
        {
         "name": "First Name",
         "rawType": "object",
         "type": "unknown"
        },
        {
         "name": "Last Name",
         "rawType": "object",
         "type": "unknown"
        },
        {
         "name": "Company",
         "rawType": "object",
         "type": "unknown"
        },
        {
         "name": "City",
         "rawType": "object",
         "type": "unknown"
        },
        {
         "name": "Country",
         "rawType": "object",
         "type": "unknown"
        },
        {
         "name": "Phone 1",
         "rawType": "object",
         "type": "unknown"
        },
        {
         "name": "Phone 2",
         "rawType": "object",
         "type": "unknown"
        },
        {
         "name": "Email",
         "rawType": "object",
         "type": "unknown"
        },
        {
         "name": "Subscription Date",
         "rawType": "object",
         "type": "unknown"
        },
        {
         "name": "Website",
         "rawType": "object",
         "type": "unknown"
        }
       ],
       "ref": "b25c24a8-12e6-4478-992f-76c72fc26f0c",
       "rows": [
        [
         "0",
         "1.0",
         "DD37Cf93aecA6Dc",
         "Sheryl",
         "Baxter",
         "Rasmussen Group",
         "East Leonard",
         null,
         "229.077.5154",
         "397.884.0519x718",
         "zunigavanessa@smith.info",
         "2020-08-24",
         "http://www.stephenson.com/"
        ],
        [
         "1",
         null,
         null,
         null,
         null,
         null,
         null,
         null,
         null,
         null,
         null,
         null,
         null
        ],
        [
         "2",
         null,
         "6F94879bDAfE5a6",
         "Roy",
         "Berry",
         "Murillo-Perry",
         "Isabelborough",
         null,
         "+1-539-402-0259",
         null,
         "beckycarr@hogan.com",
         "2020-03-25",
         "http://www.lawrence.com/"
        ],
        [
         "3",
         "4.0",
         "5Cef8BFA16c5e3c",
         "Linda",
         "Olsen",
         "Dominguez, Mcmillan and Donovan",
         "Bensonview",
         null,
         "001-808-617-6467x12895",
         null,
         "stanleyblackwell@benson.org",
         "2020-06-02",
         "http://www.good-lyons.com/"
        ],
        [
         "4",
         null,
         "053d585Ab6b3159",
         "Joanna",
         null,
         " Lang and Andrade\"",
         "West Priscilla",
         "Slovakia (Slovak Republic)",
         "001-234-203-0635x76146",
         null,
         "colinalvarado@miles.net",
         "2021-04-17",
         "https://goodwin-ingram.com/"
        ]
       ],
       "shape": {
        "columns": 12,
        "rows": 5
       }
      },
      "text/html": [
       "<div>\n",
       "<style scoped>\n",
       "    .dataframe tbody tr th:only-of-type {\n",
       "        vertical-align: middle;\n",
       "    }\n",
       "\n",
       "    .dataframe tbody tr th {\n",
       "        vertical-align: top;\n",
       "    }\n",
       "\n",
       "    .dataframe thead th {\n",
       "        text-align: right;\n",
       "    }\n",
       "</style>\n",
       "<table border=\"1\" class=\"dataframe\">\n",
       "  <thead>\n",
       "    <tr style=\"text-align: right;\">\n",
       "      <th></th>\n",
       "      <th>Index</th>\n",
       "      <th>Customer Id</th>\n",
       "      <th>First Name</th>\n",
       "      <th>Last Name</th>\n",
       "      <th>Company</th>\n",
       "      <th>City</th>\n",
       "      <th>Country</th>\n",
       "      <th>Phone 1</th>\n",
       "      <th>Phone 2</th>\n",
       "      <th>Email</th>\n",
       "      <th>Subscription Date</th>\n",
       "      <th>Website</th>\n",
       "    </tr>\n",
       "  </thead>\n",
       "  <tbody>\n",
       "    <tr>\n",
       "      <th>0</th>\n",
       "      <td>1.0</td>\n",
       "      <td>DD37Cf93aecA6Dc</td>\n",
       "      <td>Sheryl</td>\n",
       "      <td>Baxter</td>\n",
       "      <td>Rasmussen Group</td>\n",
       "      <td>East Leonard</td>\n",
       "      <td>NaN</td>\n",
       "      <td>229.077.5154</td>\n",
       "      <td>397.884.0519x718</td>\n",
       "      <td>zunigavanessa@smith.info</td>\n",
       "      <td>2020-08-24</td>\n",
       "      <td>http://www.stephenson.com/</td>\n",
       "    </tr>\n",
       "    <tr>\n",
       "      <th>1</th>\n",
       "      <td>NaN</td>\n",
       "      <td>NaN</td>\n",
       "      <td>NaN</td>\n",
       "      <td>NaN</td>\n",
       "      <td>NaN</td>\n",
       "      <td>NaN</td>\n",
       "      <td>NaN</td>\n",
       "      <td>NaN</td>\n",
       "      <td>NaN</td>\n",
       "      <td>NaN</td>\n",
       "      <td>NaN</td>\n",
       "      <td>NaN</td>\n",
       "    </tr>\n",
       "    <tr>\n",
       "      <th>2</th>\n",
       "      <td>NaN</td>\n",
       "      <td>6F94879bDAfE5a6</td>\n",
       "      <td>Roy</td>\n",
       "      <td>Berry</td>\n",
       "      <td>Murillo-Perry</td>\n",
       "      <td>Isabelborough</td>\n",
       "      <td>NaN</td>\n",
       "      <td>+1-539-402-0259</td>\n",
       "      <td>NaN</td>\n",
       "      <td>beckycarr@hogan.com</td>\n",
       "      <td>2020-03-25</td>\n",
       "      <td>http://www.lawrence.com/</td>\n",
       "    </tr>\n",
       "    <tr>\n",
       "      <th>3</th>\n",
       "      <td>4.0</td>\n",
       "      <td>5Cef8BFA16c5e3c</td>\n",
       "      <td>Linda</td>\n",
       "      <td>Olsen</td>\n",
       "      <td>Dominguez, Mcmillan and Donovan</td>\n",
       "      <td>Bensonview</td>\n",
       "      <td>NaN</td>\n",
       "      <td>001-808-617-6467x12895</td>\n",
       "      <td>NaN</td>\n",
       "      <td>stanleyblackwell@benson.org</td>\n",
       "      <td>2020-06-02</td>\n",
       "      <td>http://www.good-lyons.com/</td>\n",
       "    </tr>\n",
       "    <tr>\n",
       "      <th>4</th>\n",
       "      <td>NaN</td>\n",
       "      <td>053d585Ab6b3159</td>\n",
       "      <td>Joanna</td>\n",
       "      <td>NaN</td>\n",
       "      <td>Lang and Andrade\"</td>\n",
       "      <td>West Priscilla</td>\n",
       "      <td>Slovakia (Slovak Republic)</td>\n",
       "      <td>001-234-203-0635x76146</td>\n",
       "      <td>NaN</td>\n",
       "      <td>colinalvarado@miles.net</td>\n",
       "      <td>2021-04-17</td>\n",
       "      <td>https://goodwin-ingram.com/</td>\n",
       "    </tr>\n",
       "  </tbody>\n",
       "</table>\n",
       "</div>"
      ],
      "text/plain": [
       "   Index      Customer Id First Name Last Name  \\\n",
       "0    1.0  DD37Cf93aecA6Dc     Sheryl    Baxter   \n",
       "1    NaN              NaN        NaN       NaN   \n",
       "2    NaN  6F94879bDAfE5a6        Roy     Berry   \n",
       "3    4.0  5Cef8BFA16c5e3c      Linda     Olsen   \n",
       "4    NaN  053d585Ab6b3159     Joanna       NaN   \n",
       "\n",
       "                           Company            City  \\\n",
       "0                  Rasmussen Group    East Leonard   \n",
       "1                              NaN             NaN   \n",
       "2                    Murillo-Perry   Isabelborough   \n",
       "3  Dominguez, Mcmillan and Donovan      Bensonview   \n",
       "4                Lang and Andrade\"  West Priscilla   \n",
       "\n",
       "                      Country                 Phone 1           Phone 2  \\\n",
       "0                         NaN            229.077.5154  397.884.0519x718   \n",
       "1                         NaN                     NaN               NaN   \n",
       "2                         NaN         +1-539-402-0259               NaN   \n",
       "3                         NaN  001-808-617-6467x12895               NaN   \n",
       "4  Slovakia (Slovak Republic)  001-234-203-0635x76146               NaN   \n",
       "\n",
       "                         Email Subscription Date                      Website  \n",
       "0     zunigavanessa@smith.info        2020-08-24   http://www.stephenson.com/  \n",
       "1                          NaN               NaN                          NaN  \n",
       "2          beckycarr@hogan.com        2020-03-25     http://www.lawrence.com/  \n",
       "3  stanleyblackwell@benson.org        2020-06-02   http://www.good-lyons.com/  \n",
       "4      colinalvarado@miles.net        2021-04-17  https://goodwin-ingram.com/  "
      ]
     },
     "execution_count": 128,
     "metadata": {},
     "output_type": "execute_result"
    }
   ],
   "source": [
    "csv1 = pd.read_csv(\"files\\customers.csv\").head()\n",
    "csv1\n"
   ]
  },
  {
   "cell_type": "code",
   "execution_count": 129,
   "metadata": {},
   "outputs": [
    {
     "name": "stdout",
     "output_type": "stream",
     "text": [
      "Index(['Index', 'Customer Id', 'First Name', 'Last Name', 'Company', 'City',\n",
      "       'Country', 'Phone 1', 'Phone 2', 'Email', 'Subscription Date',\n",
      "       'Website'],\n",
      "      dtype='object')\n",
      "Index(['Index', 'Customer Id', 'First Name'], dtype='object')\n"
     ]
    }
   ],
   "source": [
    "print(csv1.columns)\n",
    "print(csv1.columns[:3])"
   ]
  },
  {
   "cell_type": "code",
   "execution_count": 130,
   "metadata": {},
   "outputs": [
    {
     "data": {
      "application/vnd.microsoft.datawrangler.viewer.v0+json": {
       "columns": [
        {
         "name": "index",
         "rawType": "object",
         "type": "string"
        },
        {
         "name": "Index",
         "rawType": "float64",
         "type": "float"
        }
       ],
       "ref": "88801f3b-fb2c-4080-8b21-6717b1c855e3",
       "rows": [
        [
         "count",
         "2.0"
        ],
        [
         "mean",
         "2.5"
        ],
        [
         "std",
         "2.1213203435596424"
        ],
        [
         "min",
         "1.0"
        ],
        [
         "25%",
         "1.75"
        ],
        [
         "50%",
         "2.5"
        ],
        [
         "75%",
         "3.25"
        ],
        [
         "max",
         "4.0"
        ]
       ],
       "shape": {
        "columns": 1,
        "rows": 8
       }
      },
      "text/html": [
       "<div>\n",
       "<style scoped>\n",
       "    .dataframe tbody tr th:only-of-type {\n",
       "        vertical-align: middle;\n",
       "    }\n",
       "\n",
       "    .dataframe tbody tr th {\n",
       "        vertical-align: top;\n",
       "    }\n",
       "\n",
       "    .dataframe thead th {\n",
       "        text-align: right;\n",
       "    }\n",
       "</style>\n",
       "<table border=\"1\" class=\"dataframe\">\n",
       "  <thead>\n",
       "    <tr style=\"text-align: right;\">\n",
       "      <th></th>\n",
       "      <th>Index</th>\n",
       "    </tr>\n",
       "  </thead>\n",
       "  <tbody>\n",
       "    <tr>\n",
       "      <th>count</th>\n",
       "      <td>2.00000</td>\n",
       "    </tr>\n",
       "    <tr>\n",
       "      <th>mean</th>\n",
       "      <td>2.50000</td>\n",
       "    </tr>\n",
       "    <tr>\n",
       "      <th>std</th>\n",
       "      <td>2.12132</td>\n",
       "    </tr>\n",
       "    <tr>\n",
       "      <th>min</th>\n",
       "      <td>1.00000</td>\n",
       "    </tr>\n",
       "    <tr>\n",
       "      <th>25%</th>\n",
       "      <td>1.75000</td>\n",
       "    </tr>\n",
       "    <tr>\n",
       "      <th>50%</th>\n",
       "      <td>2.50000</td>\n",
       "    </tr>\n",
       "    <tr>\n",
       "      <th>75%</th>\n",
       "      <td>3.25000</td>\n",
       "    </tr>\n",
       "    <tr>\n",
       "      <th>max</th>\n",
       "      <td>4.00000</td>\n",
       "    </tr>\n",
       "  </tbody>\n",
       "</table>\n",
       "</div>"
      ],
      "text/plain": [
       "         Index\n",
       "count  2.00000\n",
       "mean   2.50000\n",
       "std    2.12132\n",
       "min    1.00000\n",
       "25%    1.75000\n",
       "50%    2.50000\n",
       "75%    3.25000\n",
       "max    4.00000"
      ]
     },
     "execution_count": 130,
     "metadata": {},
     "output_type": "execute_result"
    }
   ],
   "source": [
    "info = csv1.describe()\n",
    "info"
   ]
  },
  {
   "cell_type": "code",
   "execution_count": 131,
   "metadata": {},
   "outputs": [
    {
     "data": {
      "application/vnd.microsoft.datawrangler.viewer.v0+json": {
       "columns": [
        {
         "name": "index",
         "rawType": "object",
         "type": "string"
        },
        {
         "name": "Index",
         "rawType": "float64",
         "type": "float"
        }
       ],
       "ref": "f0bae4a7-5cb9-4e5b-a61b-7b32a5558c16",
       "rows": [
        [
         "mean",
         "2.5"
        ]
       ],
       "shape": {
        "columns": 1,
        "rows": 1
       }
      },
      "text/html": [
       "<div>\n",
       "<style scoped>\n",
       "    .dataframe tbody tr th:only-of-type {\n",
       "        vertical-align: middle;\n",
       "    }\n",
       "\n",
       "    .dataframe tbody tr th {\n",
       "        vertical-align: top;\n",
       "    }\n",
       "\n",
       "    .dataframe thead th {\n",
       "        text-align: right;\n",
       "    }\n",
       "</style>\n",
       "<table border=\"1\" class=\"dataframe\">\n",
       "  <thead>\n",
       "    <tr style=\"text-align: right;\">\n",
       "      <th></th>\n",
       "      <th>Index</th>\n",
       "    </tr>\n",
       "  </thead>\n",
       "  <tbody>\n",
       "    <tr>\n",
       "      <th>mean</th>\n",
       "      <td>2.5</td>\n",
       "    </tr>\n",
       "  </tbody>\n",
       "</table>\n",
       "</div>"
      ],
      "text/plain": [
       "      Index\n",
       "mean    2.5"
      ]
     },
     "execution_count": 131,
     "metadata": {},
     "output_type": "execute_result"
    }
   ],
   "source": [
    "info[1:-6]"
   ]
  },
  {
   "cell_type": "code",
   "execution_count": 132,
   "metadata": {},
   "outputs": [
    {
     "name": "stdout",
     "output_type": "stream",
     "text": [
      "<NumpyExtensionArray>\n",
      "['count', 'mean', 'std', 'min', '25%', '50%', '75%', 'max']\n",
      "Length: 8, dtype: object\n"
     ]
    }
   ],
   "source": [
    "print(info.index.array)"
   ]
  },
  {
   "cell_type": "code",
   "execution_count": 133,
   "metadata": {},
   "outputs": [
    {
     "data": {
      "text/plain": [
       "array([[2.        ],\n",
       "       [2.5       ],\n",
       "       [2.12132034],\n",
       "       [1.        ],\n",
       "       [1.75      ],\n",
       "       [2.5       ],\n",
       "       [3.25      ],\n",
       "       [4.        ]])"
      ]
     },
     "execution_count": 133,
     "metadata": {},
     "output_type": "execute_result"
    }
   ],
   "source": [
    "info.to_numpy()"
   ]
  },
  {
   "cell_type": "code",
   "execution_count": 134,
   "metadata": {},
   "outputs": [
    {
     "name": "stdout",
     "output_type": "stream",
     "text": [
      "[[2.        ]\n",
      " [2.5       ]\n",
      " [2.12132034]\n",
      " [1.        ]\n",
      " [1.75      ]\n",
      " [2.5       ]\n",
      " [3.25      ]\n",
      " [4.        ]]\n",
      "[[2.        ]\n",
      " [2.5       ]\n",
      " [2.12132034]\n",
      " [1.        ]\n",
      " [1.75      ]\n",
      " [2.5       ]\n",
      " [3.25      ]\n",
      " [4.        ]]\n"
     ]
    }
   ],
   "source": [
    "bla = np.array(info)\n",
    "print(bla )\n",
    "blabla = np.asarray(info)\n",
    "print(blabla)\n"
   ]
  },
  {
   "cell_type": "code",
   "execution_count": 135,
   "metadata": {},
   "outputs": [
    {
     "data": {
      "application/vnd.microsoft.datawrangler.viewer.v0+json": {
       "columns": [
        {
         "name": "index",
         "rawType": "int64",
         "type": "integer"
        },
        {
         "name": "Index",
         "rawType": "float64",
         "type": "float"
        },
        {
         "name": "Customer Id",
         "rawType": "object",
         "type": "unknown"
        },
        {
         "name": "First Name",
         "rawType": "object",
         "type": "unknown"
        },
        {
         "name": "Last Name",
         "rawType": "object",
         "type": "unknown"
        },
        {
         "name": "Company",
         "rawType": "object",
         "type": "unknown"
        },
        {
         "name": "City",
         "rawType": "object",
         "type": "unknown"
        },
        {
         "name": "Country",
         "rawType": "object",
         "type": "unknown"
        },
        {
         "name": "Phone 1",
         "rawType": "object",
         "type": "unknown"
        },
        {
         "name": "Phone 2",
         "rawType": "object",
         "type": "unknown"
        },
        {
         "name": "Email",
         "rawType": "object",
         "type": "unknown"
        },
        {
         "name": "Subscription Date",
         "rawType": "object",
         "type": "unknown"
        },
        {
         "name": "Website",
         "rawType": "object",
         "type": "unknown"
        }
       ],
       "ref": "a21c73af-bdac-4140-8656-97dfe6d33792",
       "rows": [
        [
         "4",
         null,
         "053d585Ab6b3159",
         "Joanna",
         null,
         " Lang and Andrade\"",
         "West Priscilla",
         "Slovakia (Slovak Republic)",
         "001-234-203-0635x76146",
         null,
         "colinalvarado@miles.net",
         "2021-04-17",
         "https://goodwin-ingram.com/"
        ],
        [
         "3",
         "4.0",
         "5Cef8BFA16c5e3c",
         "Linda",
         "Olsen",
         "Dominguez, Mcmillan and Donovan",
         "Bensonview",
         null,
         "001-808-617-6467x12895",
         null,
         "stanleyblackwell@benson.org",
         "2020-06-02",
         "http://www.good-lyons.com/"
        ],
        [
         "2",
         null,
         "6F94879bDAfE5a6",
         "Roy",
         "Berry",
         "Murillo-Perry",
         "Isabelborough",
         null,
         "+1-539-402-0259",
         null,
         "beckycarr@hogan.com",
         "2020-03-25",
         "http://www.lawrence.com/"
        ],
        [
         "1",
         null,
         null,
         null,
         null,
         null,
         null,
         null,
         null,
         null,
         null,
         null,
         null
        ],
        [
         "0",
         "1.0",
         "DD37Cf93aecA6Dc",
         "Sheryl",
         "Baxter",
         "Rasmussen Group",
         "East Leonard",
         null,
         "229.077.5154",
         "397.884.0519x718",
         "zunigavanessa@smith.info",
         "2020-08-24",
         "http://www.stephenson.com/"
        ]
       ],
       "shape": {
        "columns": 12,
        "rows": 5
       }
      },
      "text/html": [
       "<div>\n",
       "<style scoped>\n",
       "    .dataframe tbody tr th:only-of-type {\n",
       "        vertical-align: middle;\n",
       "    }\n",
       "\n",
       "    .dataframe tbody tr th {\n",
       "        vertical-align: top;\n",
       "    }\n",
       "\n",
       "    .dataframe thead th {\n",
       "        text-align: right;\n",
       "    }\n",
       "</style>\n",
       "<table border=\"1\" class=\"dataframe\">\n",
       "  <thead>\n",
       "    <tr style=\"text-align: right;\">\n",
       "      <th></th>\n",
       "      <th>Index</th>\n",
       "      <th>Customer Id</th>\n",
       "      <th>First Name</th>\n",
       "      <th>Last Name</th>\n",
       "      <th>Company</th>\n",
       "      <th>City</th>\n",
       "      <th>Country</th>\n",
       "      <th>Phone 1</th>\n",
       "      <th>Phone 2</th>\n",
       "      <th>Email</th>\n",
       "      <th>Subscription Date</th>\n",
       "      <th>Website</th>\n",
       "    </tr>\n",
       "  </thead>\n",
       "  <tbody>\n",
       "    <tr>\n",
       "      <th>4</th>\n",
       "      <td>NaN</td>\n",
       "      <td>053d585Ab6b3159</td>\n",
       "      <td>Joanna</td>\n",
       "      <td>NaN</td>\n",
       "      <td>Lang and Andrade\"</td>\n",
       "      <td>West Priscilla</td>\n",
       "      <td>Slovakia (Slovak Republic)</td>\n",
       "      <td>001-234-203-0635x76146</td>\n",
       "      <td>NaN</td>\n",
       "      <td>colinalvarado@miles.net</td>\n",
       "      <td>2021-04-17</td>\n",
       "      <td>https://goodwin-ingram.com/</td>\n",
       "    </tr>\n",
       "    <tr>\n",
       "      <th>3</th>\n",
       "      <td>4.0</td>\n",
       "      <td>5Cef8BFA16c5e3c</td>\n",
       "      <td>Linda</td>\n",
       "      <td>Olsen</td>\n",
       "      <td>Dominguez, Mcmillan and Donovan</td>\n",
       "      <td>Bensonview</td>\n",
       "      <td>NaN</td>\n",
       "      <td>001-808-617-6467x12895</td>\n",
       "      <td>NaN</td>\n",
       "      <td>stanleyblackwell@benson.org</td>\n",
       "      <td>2020-06-02</td>\n",
       "      <td>http://www.good-lyons.com/</td>\n",
       "    </tr>\n",
       "    <tr>\n",
       "      <th>2</th>\n",
       "      <td>NaN</td>\n",
       "      <td>6F94879bDAfE5a6</td>\n",
       "      <td>Roy</td>\n",
       "      <td>Berry</td>\n",
       "      <td>Murillo-Perry</td>\n",
       "      <td>Isabelborough</td>\n",
       "      <td>NaN</td>\n",
       "      <td>+1-539-402-0259</td>\n",
       "      <td>NaN</td>\n",
       "      <td>beckycarr@hogan.com</td>\n",
       "      <td>2020-03-25</td>\n",
       "      <td>http://www.lawrence.com/</td>\n",
       "    </tr>\n",
       "    <tr>\n",
       "      <th>1</th>\n",
       "      <td>NaN</td>\n",
       "      <td>NaN</td>\n",
       "      <td>NaN</td>\n",
       "      <td>NaN</td>\n",
       "      <td>NaN</td>\n",
       "      <td>NaN</td>\n",
       "      <td>NaN</td>\n",
       "      <td>NaN</td>\n",
       "      <td>NaN</td>\n",
       "      <td>NaN</td>\n",
       "      <td>NaN</td>\n",
       "      <td>NaN</td>\n",
       "    </tr>\n",
       "    <tr>\n",
       "      <th>0</th>\n",
       "      <td>1.0</td>\n",
       "      <td>DD37Cf93aecA6Dc</td>\n",
       "      <td>Sheryl</td>\n",
       "      <td>Baxter</td>\n",
       "      <td>Rasmussen Group</td>\n",
       "      <td>East Leonard</td>\n",
       "      <td>NaN</td>\n",
       "      <td>229.077.5154</td>\n",
       "      <td>397.884.0519x718</td>\n",
       "      <td>zunigavanessa@smith.info</td>\n",
       "      <td>2020-08-24</td>\n",
       "      <td>http://www.stephenson.com/</td>\n",
       "    </tr>\n",
       "  </tbody>\n",
       "</table>\n",
       "</div>"
      ],
      "text/plain": [
       "   Index      Customer Id First Name Last Name  \\\n",
       "4    NaN  053d585Ab6b3159     Joanna       NaN   \n",
       "3    4.0  5Cef8BFA16c5e3c      Linda     Olsen   \n",
       "2    NaN  6F94879bDAfE5a6        Roy     Berry   \n",
       "1    NaN              NaN        NaN       NaN   \n",
       "0    1.0  DD37Cf93aecA6Dc     Sheryl    Baxter   \n",
       "\n",
       "                           Company            City  \\\n",
       "4                Lang and Andrade\"  West Priscilla   \n",
       "3  Dominguez, Mcmillan and Donovan      Bensonview   \n",
       "2                    Murillo-Perry   Isabelborough   \n",
       "1                              NaN             NaN   \n",
       "0                  Rasmussen Group    East Leonard   \n",
       "\n",
       "                      Country                 Phone 1           Phone 2  \\\n",
       "4  Slovakia (Slovak Republic)  001-234-203-0635x76146               NaN   \n",
       "3                         NaN  001-808-617-6467x12895               NaN   \n",
       "2                         NaN         +1-539-402-0259               NaN   \n",
       "1                         NaN                     NaN               NaN   \n",
       "0                         NaN            229.077.5154  397.884.0519x718   \n",
       "\n",
       "                         Email Subscription Date                      Website  \n",
       "4      colinalvarado@miles.net        2021-04-17  https://goodwin-ingram.com/  \n",
       "3  stanleyblackwell@benson.org        2020-06-02   http://www.good-lyons.com/  \n",
       "2          beckycarr@hogan.com        2020-03-25     http://www.lawrence.com/  \n",
       "1                          NaN               NaN                          NaN  \n",
       "0     zunigavanessa@smith.info        2020-08-24   http://www.stephenson.com/  "
      ]
     },
     "execution_count": 135,
     "metadata": {},
     "output_type": "execute_result"
    }
   ],
   "source": [
    "# csv1.sort_values(\"Country\",axis=0,ascending=False).head()\n",
    "csv1.sort_index(axis=0,ascending=False).head()"
   ]
  },
  {
   "cell_type": "code",
   "execution_count": 136,
   "metadata": {},
   "outputs": [
    {
     "name": "stderr",
     "output_type": "stream",
     "text": [
      "C:\\Users\\VICTUS\\AppData\\Local\\Temp\\ipykernel_9620\\3296206201.py:1: FutureWarning: ChainedAssignmentError: behaviour will change in pandas 3.0!\n",
      "You are setting values through chained assignment. Currently this works in certain cases, but when using Copy-on-Write (which will become the default behaviour in pandas 3.0) this will never work to update the original DataFrame or Series, because the intermediate object on which we are setting values will behave as a copy.\n",
      "A typical example is when you are setting values in a column of a DataFrame, like:\n",
      "\n",
      "df[\"col\"][row_indexer] = value\n",
      "\n",
      "Use `df.loc[row_indexer, \"col\"] = values` instead, to perform the assignment in a single step and ensure this keeps updating the original `df`.\n",
      "\n",
      "See the caveats in the documentation: https://pandas.pydata.org/pandas-docs/stable/user_guide/indexing.html#returning-a-view-versus-a-copy\n",
      "\n",
      "  csv1[\"City\"][2]= \"sylhet\"\n"
     ]
    },
    {
     "data": {
      "application/vnd.microsoft.datawrangler.viewer.v0+json": {
       "columns": [
        {
         "name": "index",
         "rawType": "int64",
         "type": "integer"
        },
        {
         "name": "Index",
         "rawType": "float64",
         "type": "float"
        },
        {
         "name": "Customer Id",
         "rawType": "object",
         "type": "unknown"
        },
        {
         "name": "First Name",
         "rawType": "object",
         "type": "unknown"
        },
        {
         "name": "Last Name",
         "rawType": "object",
         "type": "unknown"
        },
        {
         "name": "Company",
         "rawType": "object",
         "type": "unknown"
        },
        {
         "name": "City",
         "rawType": "object",
         "type": "unknown"
        },
        {
         "name": "Country",
         "rawType": "object",
         "type": "unknown"
        },
        {
         "name": "Phone 1",
         "rawType": "object",
         "type": "unknown"
        },
        {
         "name": "Phone 2",
         "rawType": "object",
         "type": "unknown"
        },
        {
         "name": "Email",
         "rawType": "object",
         "type": "unknown"
        },
        {
         "name": "Subscription Date",
         "rawType": "object",
         "type": "unknown"
        },
        {
         "name": "Website",
         "rawType": "object",
         "type": "unknown"
        }
       ],
       "ref": "d6952020-650e-4280-a6ce-3afd3b9f4918",
       "rows": [
        [
         "0",
         "1.0",
         "DD37Cf93aecA6Dc",
         "Sheryl",
         "Baxter",
         "Rasmussen Group",
         "East Leonard",
         null,
         "229.077.5154",
         "397.884.0519x718",
         "zunigavanessa@smith.info",
         "2020-08-24",
         "http://www.stephenson.com/"
        ],
        [
         "1",
         null,
         null,
         null,
         null,
         null,
         null,
         null,
         null,
         null,
         null,
         null,
         null
        ],
        [
         "2",
         null,
         "6F94879bDAfE5a6",
         "Roy",
         "Berry",
         "Murillo-Perry",
         "sylhet",
         null,
         "+1-539-402-0259",
         null,
         "beckycarr@hogan.com",
         "2020-03-25",
         "http://www.lawrence.com/"
        ],
        [
         "3",
         "4.0",
         "5Cef8BFA16c5e3c",
         "Linda",
         "Olsen",
         "Dominguez, Mcmillan and Donovan",
         "Bensonview",
         null,
         "001-808-617-6467x12895",
         null,
         "stanleyblackwell@benson.org",
         "2020-06-02",
         "http://www.good-lyons.com/"
        ],
        [
         "4",
         null,
         "053d585Ab6b3159",
         "Joanna",
         null,
         " Lang and Andrade\"",
         "West Priscilla",
         "Slovakia (Slovak Republic)",
         "001-234-203-0635x76146",
         null,
         "colinalvarado@miles.net",
         "2021-04-17",
         "https://goodwin-ingram.com/"
        ]
       ],
       "shape": {
        "columns": 12,
        "rows": 5
       }
      },
      "text/html": [
       "<div>\n",
       "<style scoped>\n",
       "    .dataframe tbody tr th:only-of-type {\n",
       "        vertical-align: middle;\n",
       "    }\n",
       "\n",
       "    .dataframe tbody tr th {\n",
       "        vertical-align: top;\n",
       "    }\n",
       "\n",
       "    .dataframe thead th {\n",
       "        text-align: right;\n",
       "    }\n",
       "</style>\n",
       "<table border=\"1\" class=\"dataframe\">\n",
       "  <thead>\n",
       "    <tr style=\"text-align: right;\">\n",
       "      <th></th>\n",
       "      <th>Index</th>\n",
       "      <th>Customer Id</th>\n",
       "      <th>First Name</th>\n",
       "      <th>Last Name</th>\n",
       "      <th>Company</th>\n",
       "      <th>City</th>\n",
       "      <th>Country</th>\n",
       "      <th>Phone 1</th>\n",
       "      <th>Phone 2</th>\n",
       "      <th>Email</th>\n",
       "      <th>Subscription Date</th>\n",
       "      <th>Website</th>\n",
       "    </tr>\n",
       "  </thead>\n",
       "  <tbody>\n",
       "    <tr>\n",
       "      <th>0</th>\n",
       "      <td>1.0</td>\n",
       "      <td>DD37Cf93aecA6Dc</td>\n",
       "      <td>Sheryl</td>\n",
       "      <td>Baxter</td>\n",
       "      <td>Rasmussen Group</td>\n",
       "      <td>East Leonard</td>\n",
       "      <td>NaN</td>\n",
       "      <td>229.077.5154</td>\n",
       "      <td>397.884.0519x718</td>\n",
       "      <td>zunigavanessa@smith.info</td>\n",
       "      <td>2020-08-24</td>\n",
       "      <td>http://www.stephenson.com/</td>\n",
       "    </tr>\n",
       "    <tr>\n",
       "      <th>1</th>\n",
       "      <td>NaN</td>\n",
       "      <td>NaN</td>\n",
       "      <td>NaN</td>\n",
       "      <td>NaN</td>\n",
       "      <td>NaN</td>\n",
       "      <td>NaN</td>\n",
       "      <td>NaN</td>\n",
       "      <td>NaN</td>\n",
       "      <td>NaN</td>\n",
       "      <td>NaN</td>\n",
       "      <td>NaN</td>\n",
       "      <td>NaN</td>\n",
       "    </tr>\n",
       "    <tr>\n",
       "      <th>2</th>\n",
       "      <td>NaN</td>\n",
       "      <td>6F94879bDAfE5a6</td>\n",
       "      <td>Roy</td>\n",
       "      <td>Berry</td>\n",
       "      <td>Murillo-Perry</td>\n",
       "      <td>sylhet</td>\n",
       "      <td>NaN</td>\n",
       "      <td>+1-539-402-0259</td>\n",
       "      <td>NaN</td>\n",
       "      <td>beckycarr@hogan.com</td>\n",
       "      <td>2020-03-25</td>\n",
       "      <td>http://www.lawrence.com/</td>\n",
       "    </tr>\n",
       "    <tr>\n",
       "      <th>3</th>\n",
       "      <td>4.0</td>\n",
       "      <td>5Cef8BFA16c5e3c</td>\n",
       "      <td>Linda</td>\n",
       "      <td>Olsen</td>\n",
       "      <td>Dominguez, Mcmillan and Donovan</td>\n",
       "      <td>Bensonview</td>\n",
       "      <td>NaN</td>\n",
       "      <td>001-808-617-6467x12895</td>\n",
       "      <td>NaN</td>\n",
       "      <td>stanleyblackwell@benson.org</td>\n",
       "      <td>2020-06-02</td>\n",
       "      <td>http://www.good-lyons.com/</td>\n",
       "    </tr>\n",
       "    <tr>\n",
       "      <th>4</th>\n",
       "      <td>NaN</td>\n",
       "      <td>053d585Ab6b3159</td>\n",
       "      <td>Joanna</td>\n",
       "      <td>NaN</td>\n",
       "      <td>Lang and Andrade\"</td>\n",
       "      <td>West Priscilla</td>\n",
       "      <td>Slovakia (Slovak Republic)</td>\n",
       "      <td>001-234-203-0635x76146</td>\n",
       "      <td>NaN</td>\n",
       "      <td>colinalvarado@miles.net</td>\n",
       "      <td>2021-04-17</td>\n",
       "      <td>https://goodwin-ingram.com/</td>\n",
       "    </tr>\n",
       "  </tbody>\n",
       "</table>\n",
       "</div>"
      ],
      "text/plain": [
       "   Index      Customer Id First Name Last Name  \\\n",
       "0    1.0  DD37Cf93aecA6Dc     Sheryl    Baxter   \n",
       "1    NaN              NaN        NaN       NaN   \n",
       "2    NaN  6F94879bDAfE5a6        Roy     Berry   \n",
       "3    4.0  5Cef8BFA16c5e3c      Linda     Olsen   \n",
       "4    NaN  053d585Ab6b3159     Joanna       NaN   \n",
       "\n",
       "                           Company            City  \\\n",
       "0                  Rasmussen Group    East Leonard   \n",
       "1                              NaN             NaN   \n",
       "2                    Murillo-Perry          sylhet   \n",
       "3  Dominguez, Mcmillan and Donovan      Bensonview   \n",
       "4                Lang and Andrade\"  West Priscilla   \n",
       "\n",
       "                      Country                 Phone 1           Phone 2  \\\n",
       "0                         NaN            229.077.5154  397.884.0519x718   \n",
       "1                         NaN                     NaN               NaN   \n",
       "2                         NaN         +1-539-402-0259               NaN   \n",
       "3                         NaN  001-808-617-6467x12895               NaN   \n",
       "4  Slovakia (Slovak Republic)  001-234-203-0635x76146               NaN   \n",
       "\n",
       "                         Email Subscription Date                      Website  \n",
       "0     zunigavanessa@smith.info        2020-08-24   http://www.stephenson.com/  \n",
       "1                          NaN               NaN                          NaN  \n",
       "2          beckycarr@hogan.com        2020-03-25     http://www.lawrence.com/  \n",
       "3  stanleyblackwell@benson.org        2020-06-02   http://www.good-lyons.com/  \n",
       "4      colinalvarado@miles.net        2021-04-17  https://goodwin-ingram.com/  "
      ]
     },
     "execution_count": 136,
     "metadata": {},
     "output_type": "execute_result"
    }
   ],
   "source": [
    "csv1[\"City\"][2]= \"sylhet\"\n",
    "csv1"
   ]
  },
  {
   "cell_type": "markdown",
   "metadata": {},
   "source": [
    "Loc & ilock"
   ]
  },
  {
   "cell_type": "code",
   "execution_count": 137,
   "metadata": {},
   "outputs": [
    {
     "data": {
      "application/vnd.microsoft.datawrangler.viewer.v0+json": {
       "columns": [
        {
         "name": "index",
         "rawType": "int64",
         "type": "integer"
        },
        {
         "name": "Index",
         "rawType": "float64",
         "type": "float"
        },
        {
         "name": "Customer Id",
         "rawType": "object",
         "type": "unknown"
        },
        {
         "name": "First Name",
         "rawType": "object",
         "type": "unknown"
        },
        {
         "name": "Last Name",
         "rawType": "object",
         "type": "unknown"
        },
        {
         "name": "Company",
         "rawType": "object",
         "type": "unknown"
        },
        {
         "name": "City",
         "rawType": "object",
         "type": "unknown"
        },
        {
         "name": "Country",
         "rawType": "object",
         "type": "unknown"
        },
        {
         "name": "Phone 1",
         "rawType": "object",
         "type": "unknown"
        },
        {
         "name": "Phone 2",
         "rawType": "object",
         "type": "unknown"
        },
        {
         "name": "Email",
         "rawType": "object",
         "type": "unknown"
        },
        {
         "name": "Subscription Date",
         "rawType": "object",
         "type": "unknown"
        },
        {
         "name": "Website",
         "rawType": "object",
         "type": "unknown"
        }
       ],
       "ref": "56af7ed9-2a30-4902-ba5c-99d063ae7c96",
       "rows": [
        [
         "0",
         "1.0",
         "DD37Cf93aecA6Dc",
         "Sheryl",
         "Baxter",
         "Rasmussen Group",
         "sylhet",
         null,
         "229.077.5154",
         "397.884.0519x718",
         "zunigavanessa@smith.info",
         "2020-08-24",
         "http://www.stephenson.com/"
        ],
        [
         "1",
         null,
         null,
         null,
         null,
         null,
         null,
         null,
         null,
         null,
         null,
         null,
         null
        ],
        [
         "2",
         null,
         "6F94879bDAfE5a6",
         "Roy",
         "Berry",
         "Murillo-Perry",
         "sylhet",
         null,
         "+1-539-402-0259",
         null,
         "beckycarr@hogan.com",
         "2020-03-25",
         "http://www.lawrence.com/"
        ],
        [
         "3",
         "4.0",
         "5Cef8BFA16c5e3c",
         "Linda",
         "Olsen",
         "Dominguez, Mcmillan and Donovan",
         "Bensonview",
         null,
         "001-808-617-6467x12895",
         null,
         "stanleyblackwell@benson.org",
         "2020-06-02",
         "http://www.good-lyons.com/"
        ]
       ],
       "shape": {
        "columns": 12,
        "rows": 4
       }
      },
      "text/html": [
       "<div>\n",
       "<style scoped>\n",
       "    .dataframe tbody tr th:only-of-type {\n",
       "        vertical-align: middle;\n",
       "    }\n",
       "\n",
       "    .dataframe tbody tr th {\n",
       "        vertical-align: top;\n",
       "    }\n",
       "\n",
       "    .dataframe thead th {\n",
       "        text-align: right;\n",
       "    }\n",
       "</style>\n",
       "<table border=\"1\" class=\"dataframe\">\n",
       "  <thead>\n",
       "    <tr style=\"text-align: right;\">\n",
       "      <th></th>\n",
       "      <th>Index</th>\n",
       "      <th>Customer Id</th>\n",
       "      <th>First Name</th>\n",
       "      <th>Last Name</th>\n",
       "      <th>Company</th>\n",
       "      <th>City</th>\n",
       "      <th>Country</th>\n",
       "      <th>Phone 1</th>\n",
       "      <th>Phone 2</th>\n",
       "      <th>Email</th>\n",
       "      <th>Subscription Date</th>\n",
       "      <th>Website</th>\n",
       "    </tr>\n",
       "  </thead>\n",
       "  <tbody>\n",
       "    <tr>\n",
       "      <th>0</th>\n",
       "      <td>1.0</td>\n",
       "      <td>DD37Cf93aecA6Dc</td>\n",
       "      <td>Sheryl</td>\n",
       "      <td>Baxter</td>\n",
       "      <td>Rasmussen Group</td>\n",
       "      <td>sylhet</td>\n",
       "      <td>NaN</td>\n",
       "      <td>229.077.5154</td>\n",
       "      <td>397.884.0519x718</td>\n",
       "      <td>zunigavanessa@smith.info</td>\n",
       "      <td>2020-08-24</td>\n",
       "      <td>http://www.stephenson.com/</td>\n",
       "    </tr>\n",
       "    <tr>\n",
       "      <th>1</th>\n",
       "      <td>NaN</td>\n",
       "      <td>NaN</td>\n",
       "      <td>NaN</td>\n",
       "      <td>NaN</td>\n",
       "      <td>NaN</td>\n",
       "      <td>NaN</td>\n",
       "      <td>NaN</td>\n",
       "      <td>NaN</td>\n",
       "      <td>NaN</td>\n",
       "      <td>NaN</td>\n",
       "      <td>NaN</td>\n",
       "      <td>NaN</td>\n",
       "    </tr>\n",
       "    <tr>\n",
       "      <th>2</th>\n",
       "      <td>NaN</td>\n",
       "      <td>6F94879bDAfE5a6</td>\n",
       "      <td>Roy</td>\n",
       "      <td>Berry</td>\n",
       "      <td>Murillo-Perry</td>\n",
       "      <td>sylhet</td>\n",
       "      <td>NaN</td>\n",
       "      <td>+1-539-402-0259</td>\n",
       "      <td>NaN</td>\n",
       "      <td>beckycarr@hogan.com</td>\n",
       "      <td>2020-03-25</td>\n",
       "      <td>http://www.lawrence.com/</td>\n",
       "    </tr>\n",
       "    <tr>\n",
       "      <th>3</th>\n",
       "      <td>4.0</td>\n",
       "      <td>5Cef8BFA16c5e3c</td>\n",
       "      <td>Linda</td>\n",
       "      <td>Olsen</td>\n",
       "      <td>Dominguez, Mcmillan and Donovan</td>\n",
       "      <td>Bensonview</td>\n",
       "      <td>NaN</td>\n",
       "      <td>001-808-617-6467x12895</td>\n",
       "      <td>NaN</td>\n",
       "      <td>stanleyblackwell@benson.org</td>\n",
       "      <td>2020-06-02</td>\n",
       "      <td>http://www.good-lyons.com/</td>\n",
       "    </tr>\n",
       "  </tbody>\n",
       "</table>\n",
       "</div>"
      ],
      "text/plain": [
       "   Index      Customer Id First Name Last Name  \\\n",
       "0    1.0  DD37Cf93aecA6Dc     Sheryl    Baxter   \n",
       "1    NaN              NaN        NaN       NaN   \n",
       "2    NaN  6F94879bDAfE5a6        Roy     Berry   \n",
       "3    4.0  5Cef8BFA16c5e3c      Linda     Olsen   \n",
       "\n",
       "                           Company        City Country  \\\n",
       "0                  Rasmussen Group      sylhet     NaN   \n",
       "1                              NaN         NaN     NaN   \n",
       "2                    Murillo-Perry      sylhet     NaN   \n",
       "3  Dominguez, Mcmillan and Donovan  Bensonview     NaN   \n",
       "\n",
       "                  Phone 1           Phone 2                        Email  \\\n",
       "0            229.077.5154  397.884.0519x718     zunigavanessa@smith.info   \n",
       "1                     NaN               NaN                          NaN   \n",
       "2         +1-539-402-0259               NaN          beckycarr@hogan.com   \n",
       "3  001-808-617-6467x12895               NaN  stanleyblackwell@benson.org   \n",
       "\n",
       "  Subscription Date                     Website  \n",
       "0        2020-08-24  http://www.stephenson.com/  \n",
       "1               NaN                         NaN  \n",
       "2        2020-03-25    http://www.lawrence.com/  \n",
       "3        2020-06-02  http://www.good-lyons.com/  "
      ]
     },
     "execution_count": 137,
     "metadata": {},
     "output_type": "execute_result"
    }
   ],
   "source": [
    "csv1.loc[0,\"City\"]= \"sylhet\"\n",
    "csv1.head(4)"
   ]
  },
  {
   "cell_type": "code",
   "execution_count": 138,
   "metadata": {},
   "outputs": [
    {
     "data": {
      "text/plain": [
       "'sylhet'"
      ]
     },
     "execution_count": 138,
     "metadata": {},
     "output_type": "execute_result"
    }
   ],
   "source": [
    "# csv1.loc [2:4,\"First Name\":\"Company\"]\n",
    "\n",
    "# csv1.loc[:5,[\"City\",\"Company\"]]\n",
    "\n",
    "# csv1.loc[:5,:]\n",
    "\n",
    "csv1.iloc[0,5]"
   ]
  },
  {
   "cell_type": "code",
   "execution_count": 139,
   "metadata": {},
   "outputs": [
    {
     "data": {
      "application/vnd.microsoft.datawrangler.viewer.v0+json": {
       "columns": [
        {
         "name": "index",
         "rawType": "int64",
         "type": "integer"
        },
        {
         "name": "Customer Id",
         "rawType": "object",
         "type": "unknown"
        },
        {
         "name": "First Name",
         "rawType": "object",
         "type": "unknown"
        },
        {
         "name": "Last Name",
         "rawType": "object",
         "type": "unknown"
        },
        {
         "name": "Company",
         "rawType": "object",
         "type": "unknown"
        },
        {
         "name": "City",
         "rawType": "object",
         "type": "unknown"
        },
        {
         "name": "Country",
         "rawType": "object",
         "type": "unknown"
        },
        {
         "name": "Phone 1",
         "rawType": "object",
         "type": "unknown"
        },
        {
         "name": "Phone 2",
         "rawType": "object",
         "type": "unknown"
        },
        {
         "name": "Email",
         "rawType": "object",
         "type": "unknown"
        },
        {
         "name": "Subscription Date",
         "rawType": "object",
         "type": "unknown"
        },
        {
         "name": "Website",
         "rawType": "object",
         "type": "unknown"
        }
       ],
       "ref": "3292078e-f258-4a33-8ac0-fe22be378a53",
       "rows": [
        [
         "0",
         "DD37Cf93aecA6Dc",
         "Sheryl",
         "Baxter",
         "Rasmussen Group",
         "sylhet",
         null,
         "229.077.5154",
         "397.884.0519x718",
         "zunigavanessa@smith.info",
         "2020-08-24",
         "http://www.stephenson.com/"
        ],
        [
         "1",
         null,
         null,
         null,
         null,
         null,
         null,
         null,
         null,
         null,
         null,
         null
        ],
        [
         "2",
         "6F94879bDAfE5a6",
         "Roy",
         "Berry",
         "Murillo-Perry",
         "sylhet",
         null,
         "+1-539-402-0259",
         null,
         "beckycarr@hogan.com",
         "2020-03-25",
         "http://www.lawrence.com/"
        ],
        [
         "3",
         "5Cef8BFA16c5e3c",
         "Linda",
         "Olsen",
         "Dominguez, Mcmillan and Donovan",
         "Bensonview",
         null,
         "001-808-617-6467x12895",
         null,
         "stanleyblackwell@benson.org",
         "2020-06-02",
         "http://www.good-lyons.com/"
        ],
        [
         "4",
         "053d585Ab6b3159",
         "Joanna",
         null,
         " Lang and Andrade\"",
         "West Priscilla",
         "Slovakia (Slovak Republic)",
         "001-234-203-0635x76146",
         null,
         "colinalvarado@miles.net",
         "2021-04-17",
         "https://goodwin-ingram.com/"
        ]
       ],
       "shape": {
        "columns": 11,
        "rows": 5
       }
      },
      "text/html": [
       "<div>\n",
       "<style scoped>\n",
       "    .dataframe tbody tr th:only-of-type {\n",
       "        vertical-align: middle;\n",
       "    }\n",
       "\n",
       "    .dataframe tbody tr th {\n",
       "        vertical-align: top;\n",
       "    }\n",
       "\n",
       "    .dataframe thead th {\n",
       "        text-align: right;\n",
       "    }\n",
       "</style>\n",
       "<table border=\"1\" class=\"dataframe\">\n",
       "  <thead>\n",
       "    <tr style=\"text-align: right;\">\n",
       "      <th></th>\n",
       "      <th>Customer Id</th>\n",
       "      <th>First Name</th>\n",
       "      <th>Last Name</th>\n",
       "      <th>Company</th>\n",
       "      <th>City</th>\n",
       "      <th>Country</th>\n",
       "      <th>Phone 1</th>\n",
       "      <th>Phone 2</th>\n",
       "      <th>Email</th>\n",
       "      <th>Subscription Date</th>\n",
       "      <th>Website</th>\n",
       "    </tr>\n",
       "  </thead>\n",
       "  <tbody>\n",
       "    <tr>\n",
       "      <th>0</th>\n",
       "      <td>DD37Cf93aecA6Dc</td>\n",
       "      <td>Sheryl</td>\n",
       "      <td>Baxter</td>\n",
       "      <td>Rasmussen Group</td>\n",
       "      <td>sylhet</td>\n",
       "      <td>NaN</td>\n",
       "      <td>229.077.5154</td>\n",
       "      <td>397.884.0519x718</td>\n",
       "      <td>zunigavanessa@smith.info</td>\n",
       "      <td>2020-08-24</td>\n",
       "      <td>http://www.stephenson.com/</td>\n",
       "    </tr>\n",
       "    <tr>\n",
       "      <th>1</th>\n",
       "      <td>NaN</td>\n",
       "      <td>NaN</td>\n",
       "      <td>NaN</td>\n",
       "      <td>NaN</td>\n",
       "      <td>NaN</td>\n",
       "      <td>NaN</td>\n",
       "      <td>NaN</td>\n",
       "      <td>NaN</td>\n",
       "      <td>NaN</td>\n",
       "      <td>NaN</td>\n",
       "      <td>NaN</td>\n",
       "    </tr>\n",
       "    <tr>\n",
       "      <th>2</th>\n",
       "      <td>6F94879bDAfE5a6</td>\n",
       "      <td>Roy</td>\n",
       "      <td>Berry</td>\n",
       "      <td>Murillo-Perry</td>\n",
       "      <td>sylhet</td>\n",
       "      <td>NaN</td>\n",
       "      <td>+1-539-402-0259</td>\n",
       "      <td>NaN</td>\n",
       "      <td>beckycarr@hogan.com</td>\n",
       "      <td>2020-03-25</td>\n",
       "      <td>http://www.lawrence.com/</td>\n",
       "    </tr>\n",
       "    <tr>\n",
       "      <th>3</th>\n",
       "      <td>5Cef8BFA16c5e3c</td>\n",
       "      <td>Linda</td>\n",
       "      <td>Olsen</td>\n",
       "      <td>Dominguez, Mcmillan and Donovan</td>\n",
       "      <td>Bensonview</td>\n",
       "      <td>NaN</td>\n",
       "      <td>001-808-617-6467x12895</td>\n",
       "      <td>NaN</td>\n",
       "      <td>stanleyblackwell@benson.org</td>\n",
       "      <td>2020-06-02</td>\n",
       "      <td>http://www.good-lyons.com/</td>\n",
       "    </tr>\n",
       "    <tr>\n",
       "      <th>4</th>\n",
       "      <td>053d585Ab6b3159</td>\n",
       "      <td>Joanna</td>\n",
       "      <td>NaN</td>\n",
       "      <td>Lang and Andrade\"</td>\n",
       "      <td>West Priscilla</td>\n",
       "      <td>Slovakia (Slovak Republic)</td>\n",
       "      <td>001-234-203-0635x76146</td>\n",
       "      <td>NaN</td>\n",
       "      <td>colinalvarado@miles.net</td>\n",
       "      <td>2021-04-17</td>\n",
       "      <td>https://goodwin-ingram.com/</td>\n",
       "    </tr>\n",
       "  </tbody>\n",
       "</table>\n",
       "</div>"
      ],
      "text/plain": [
       "       Customer Id First Name Last Name                          Company  \\\n",
       "0  DD37Cf93aecA6Dc     Sheryl    Baxter                  Rasmussen Group   \n",
       "1              NaN        NaN       NaN                              NaN   \n",
       "2  6F94879bDAfE5a6        Roy     Berry                    Murillo-Perry   \n",
       "3  5Cef8BFA16c5e3c      Linda     Olsen  Dominguez, Mcmillan and Donovan   \n",
       "4  053d585Ab6b3159     Joanna       NaN                Lang and Andrade\"   \n",
       "\n",
       "             City                     Country                 Phone 1  \\\n",
       "0          sylhet                         NaN            229.077.5154   \n",
       "1             NaN                         NaN                     NaN   \n",
       "2          sylhet                         NaN         +1-539-402-0259   \n",
       "3      Bensonview                         NaN  001-808-617-6467x12895   \n",
       "4  West Priscilla  Slovakia (Slovak Republic)  001-234-203-0635x76146   \n",
       "\n",
       "            Phone 2                        Email Subscription Date  \\\n",
       "0  397.884.0519x718     zunigavanessa@smith.info        2020-08-24   \n",
       "1               NaN                          NaN               NaN   \n",
       "2               NaN          beckycarr@hogan.com        2020-03-25   \n",
       "3               NaN  stanleyblackwell@benson.org        2020-06-02   \n",
       "4               NaN      colinalvarado@miles.net        2021-04-17   \n",
       "\n",
       "                       Website  \n",
       "0   http://www.stephenson.com/  \n",
       "1                          NaN  \n",
       "2     http://www.lawrence.com/  \n",
       "3   http://www.good-lyons.com/  \n",
       "4  https://goodwin-ingram.com/  "
      ]
     },
     "execution_count": 139,
     "metadata": {},
     "output_type": "execute_result"
    }
   ],
   "source": [
    "# csv1.drop(0, axis=1)\n",
    "csv1.drop(\"Index\", axis=1,inplace=True)\n",
    "csv1"
   ]
  },
  {
   "cell_type": "markdown",
   "metadata": {},
   "source": [
    "***dropna & fillna***"
   ]
  },
  {
   "cell_type": "code",
   "execution_count": 140,
   "metadata": {},
   "outputs": [],
   "source": [
    "# csv1.dropna(axis=0)\n",
    "# csv1.dropna(axis=1)\n"
   ]
  },
  {
   "cell_type": "code",
   "execution_count": 141,
   "metadata": {},
   "outputs": [
    {
     "data": {
      "application/vnd.microsoft.datawrangler.viewer.v0+json": {
       "columns": [
        {
         "name": "index",
         "rawType": "int64",
         "type": "integer"
        },
        {
         "name": "Customer Id",
         "rawType": "object",
         "type": "string"
        },
        {
         "name": "First Name",
         "rawType": "object",
         "type": "string"
        },
        {
         "name": "Last Name",
         "rawType": "object",
         "type": "unknown"
        },
        {
         "name": "Company",
         "rawType": "object",
         "type": "string"
        },
        {
         "name": "City",
         "rawType": "object",
         "type": "string"
        },
        {
         "name": "Country",
         "rawType": "object",
         "type": "unknown"
        },
        {
         "name": "Phone 1",
         "rawType": "object",
         "type": "string"
        },
        {
         "name": "Phone 2",
         "rawType": "object",
         "type": "unknown"
        },
        {
         "name": "Email",
         "rawType": "object",
         "type": "string"
        },
        {
         "name": "Subscription Date",
         "rawType": "object",
         "type": "string"
        },
        {
         "name": "Website",
         "rawType": "object",
         "type": "string"
        }
       ],
       "ref": "51abb815-3d42-4982-9e05-22ef736a3b7f",
       "rows": [
        [
         "0",
         "DD37Cf93aecA6Dc",
         "Sheryl",
         "Baxter",
         "Rasmussen Group",
         "sylhet",
         null,
         "229.077.5154",
         "397.884.0519x718",
         "zunigavanessa@smith.info",
         "2020-08-24",
         "http://www.stephenson.com/"
        ],
        [
         "2",
         "6F94879bDAfE5a6",
         "Roy",
         "Berry",
         "Murillo-Perry",
         "sylhet",
         null,
         "+1-539-402-0259",
         null,
         "beckycarr@hogan.com",
         "2020-03-25",
         "http://www.lawrence.com/"
        ],
        [
         "3",
         "5Cef8BFA16c5e3c",
         "Linda",
         "Olsen",
         "Dominguez, Mcmillan and Donovan",
         "Bensonview",
         null,
         "001-808-617-6467x12895",
         null,
         "stanleyblackwell@benson.org",
         "2020-06-02",
         "http://www.good-lyons.com/"
        ],
        [
         "4",
         "053d585Ab6b3159",
         "Joanna",
         null,
         " Lang and Andrade\"",
         "West Priscilla",
         "Slovakia (Slovak Republic)",
         "001-234-203-0635x76146",
         null,
         "colinalvarado@miles.net",
         "2021-04-17",
         "https://goodwin-ingram.com/"
        ]
       ],
       "shape": {
        "columns": 11,
        "rows": 4
       }
      },
      "text/html": [
       "<div>\n",
       "<style scoped>\n",
       "    .dataframe tbody tr th:only-of-type {\n",
       "        vertical-align: middle;\n",
       "    }\n",
       "\n",
       "    .dataframe tbody tr th {\n",
       "        vertical-align: top;\n",
       "    }\n",
       "\n",
       "    .dataframe thead th {\n",
       "        text-align: right;\n",
       "    }\n",
       "</style>\n",
       "<table border=\"1\" class=\"dataframe\">\n",
       "  <thead>\n",
       "    <tr style=\"text-align: right;\">\n",
       "      <th></th>\n",
       "      <th>Customer Id</th>\n",
       "      <th>First Name</th>\n",
       "      <th>Last Name</th>\n",
       "      <th>Company</th>\n",
       "      <th>City</th>\n",
       "      <th>Country</th>\n",
       "      <th>Phone 1</th>\n",
       "      <th>Phone 2</th>\n",
       "      <th>Email</th>\n",
       "      <th>Subscription Date</th>\n",
       "      <th>Website</th>\n",
       "    </tr>\n",
       "  </thead>\n",
       "  <tbody>\n",
       "    <tr>\n",
       "      <th>0</th>\n",
       "      <td>DD37Cf93aecA6Dc</td>\n",
       "      <td>Sheryl</td>\n",
       "      <td>Baxter</td>\n",
       "      <td>Rasmussen Group</td>\n",
       "      <td>sylhet</td>\n",
       "      <td>NaN</td>\n",
       "      <td>229.077.5154</td>\n",
       "      <td>397.884.0519x718</td>\n",
       "      <td>zunigavanessa@smith.info</td>\n",
       "      <td>2020-08-24</td>\n",
       "      <td>http://www.stephenson.com/</td>\n",
       "    </tr>\n",
       "    <tr>\n",
       "      <th>2</th>\n",
       "      <td>6F94879bDAfE5a6</td>\n",
       "      <td>Roy</td>\n",
       "      <td>Berry</td>\n",
       "      <td>Murillo-Perry</td>\n",
       "      <td>sylhet</td>\n",
       "      <td>NaN</td>\n",
       "      <td>+1-539-402-0259</td>\n",
       "      <td>NaN</td>\n",
       "      <td>beckycarr@hogan.com</td>\n",
       "      <td>2020-03-25</td>\n",
       "      <td>http://www.lawrence.com/</td>\n",
       "    </tr>\n",
       "    <tr>\n",
       "      <th>3</th>\n",
       "      <td>5Cef8BFA16c5e3c</td>\n",
       "      <td>Linda</td>\n",
       "      <td>Olsen</td>\n",
       "      <td>Dominguez, Mcmillan and Donovan</td>\n",
       "      <td>Bensonview</td>\n",
       "      <td>NaN</td>\n",
       "      <td>001-808-617-6467x12895</td>\n",
       "      <td>NaN</td>\n",
       "      <td>stanleyblackwell@benson.org</td>\n",
       "      <td>2020-06-02</td>\n",
       "      <td>http://www.good-lyons.com/</td>\n",
       "    </tr>\n",
       "    <tr>\n",
       "      <th>4</th>\n",
       "      <td>053d585Ab6b3159</td>\n",
       "      <td>Joanna</td>\n",
       "      <td>NaN</td>\n",
       "      <td>Lang and Andrade\"</td>\n",
       "      <td>West Priscilla</td>\n",
       "      <td>Slovakia (Slovak Republic)</td>\n",
       "      <td>001-234-203-0635x76146</td>\n",
       "      <td>NaN</td>\n",
       "      <td>colinalvarado@miles.net</td>\n",
       "      <td>2021-04-17</td>\n",
       "      <td>https://goodwin-ingram.com/</td>\n",
       "    </tr>\n",
       "  </tbody>\n",
       "</table>\n",
       "</div>"
      ],
      "text/plain": [
       "       Customer Id First Name Last Name                          Company  \\\n",
       "0  DD37Cf93aecA6Dc     Sheryl    Baxter                  Rasmussen Group   \n",
       "2  6F94879bDAfE5a6        Roy     Berry                    Murillo-Perry   \n",
       "3  5Cef8BFA16c5e3c      Linda     Olsen  Dominguez, Mcmillan and Donovan   \n",
       "4  053d585Ab6b3159     Joanna       NaN                Lang and Andrade\"   \n",
       "\n",
       "             City                     Country                 Phone 1  \\\n",
       "0          sylhet                         NaN            229.077.5154   \n",
       "2          sylhet                         NaN         +1-539-402-0259   \n",
       "3      Bensonview                         NaN  001-808-617-6467x12895   \n",
       "4  West Priscilla  Slovakia (Slovak Republic)  001-234-203-0635x76146   \n",
       "\n",
       "            Phone 2                        Email Subscription Date  \\\n",
       "0  397.884.0519x718     zunigavanessa@smith.info        2020-08-24   \n",
       "2               NaN          beckycarr@hogan.com        2020-03-25   \n",
       "3               NaN  stanleyblackwell@benson.org        2020-06-02   \n",
       "4               NaN      colinalvarado@miles.net        2021-04-17   \n",
       "\n",
       "                       Website  \n",
       "0   http://www.stephenson.com/  \n",
       "2     http://www.lawrence.com/  \n",
       "3   http://www.good-lyons.com/  \n",
       "4  https://goodwin-ingram.com/  "
      ]
     },
     "execution_count": 141,
     "metadata": {},
     "output_type": "execute_result"
    }
   ],
   "source": [
    "# csv1.dropna(how = \"any\")\n",
    "csv1.dropna(how = \"all\")\n"
   ]
  },
  {
   "cell_type": "code",
   "execution_count": 142,
   "metadata": {},
   "outputs": [
    {
     "data": {
      "application/vnd.microsoft.datawrangler.viewer.v0+json": {
       "columns": [
        {
         "name": "index",
         "rawType": "int64",
         "type": "integer"
        },
        {
         "name": "Customer Id",
         "rawType": "object",
         "type": "string"
        },
        {
         "name": "First Name",
         "rawType": "object",
         "type": "string"
        },
        {
         "name": "Last Name",
         "rawType": "object",
         "type": "unknown"
        },
        {
         "name": "Company",
         "rawType": "object",
         "type": "string"
        },
        {
         "name": "City",
         "rawType": "object",
         "type": "string"
        },
        {
         "name": "Country",
         "rawType": "object",
         "type": "unknown"
        },
        {
         "name": "Phone 1",
         "rawType": "object",
         "type": "string"
        },
        {
         "name": "Phone 2",
         "rawType": "object",
         "type": "unknown"
        },
        {
         "name": "Email",
         "rawType": "object",
         "type": "string"
        },
        {
         "name": "Subscription Date",
         "rawType": "object",
         "type": "string"
        },
        {
         "name": "Website",
         "rawType": "object",
         "type": "string"
        }
       ],
       "ref": "7d76fc9e-37f7-414c-9836-0fce7c823592",
       "rows": [
        [
         "0",
         "DD37Cf93aecA6Dc",
         "Sheryl",
         "Baxter",
         "Rasmussen Group",
         "sylhet",
         null,
         "229.077.5154",
         "397.884.0519x718",
         "zunigavanessa@smith.info",
         "2020-08-24",
         "http://www.stephenson.com/"
        ],
        [
         "2",
         "6F94879bDAfE5a6",
         "Roy",
         "Berry",
         "Murillo-Perry",
         "sylhet",
         null,
         "+1-539-402-0259",
         null,
         "beckycarr@hogan.com",
         "2020-03-25",
         "http://www.lawrence.com/"
        ],
        [
         "3",
         "5Cef8BFA16c5e3c",
         "Linda",
         "Olsen",
         "Dominguez, Mcmillan and Donovan",
         "Bensonview",
         null,
         "001-808-617-6467x12895",
         null,
         "stanleyblackwell@benson.org",
         "2020-06-02",
         "http://www.good-lyons.com/"
        ],
        [
         "4",
         "053d585Ab6b3159",
         "Joanna",
         null,
         " Lang and Andrade\"",
         "West Priscilla",
         "Slovakia (Slovak Republic)",
         "001-234-203-0635x76146",
         null,
         "colinalvarado@miles.net",
         "2021-04-17",
         "https://goodwin-ingram.com/"
        ]
       ],
       "shape": {
        "columns": 11,
        "rows": 4
       }
      },
      "text/html": [
       "<div>\n",
       "<style scoped>\n",
       "    .dataframe tbody tr th:only-of-type {\n",
       "        vertical-align: middle;\n",
       "    }\n",
       "\n",
       "    .dataframe tbody tr th {\n",
       "        vertical-align: top;\n",
       "    }\n",
       "\n",
       "    .dataframe thead th {\n",
       "        text-align: right;\n",
       "    }\n",
       "</style>\n",
       "<table border=\"1\" class=\"dataframe\">\n",
       "  <thead>\n",
       "    <tr style=\"text-align: right;\">\n",
       "      <th></th>\n",
       "      <th>Customer Id</th>\n",
       "      <th>First Name</th>\n",
       "      <th>Last Name</th>\n",
       "      <th>Company</th>\n",
       "      <th>City</th>\n",
       "      <th>Country</th>\n",
       "      <th>Phone 1</th>\n",
       "      <th>Phone 2</th>\n",
       "      <th>Email</th>\n",
       "      <th>Subscription Date</th>\n",
       "      <th>Website</th>\n",
       "    </tr>\n",
       "  </thead>\n",
       "  <tbody>\n",
       "    <tr>\n",
       "      <th>0</th>\n",
       "      <td>DD37Cf93aecA6Dc</td>\n",
       "      <td>Sheryl</td>\n",
       "      <td>Baxter</td>\n",
       "      <td>Rasmussen Group</td>\n",
       "      <td>sylhet</td>\n",
       "      <td>NaN</td>\n",
       "      <td>229.077.5154</td>\n",
       "      <td>397.884.0519x718</td>\n",
       "      <td>zunigavanessa@smith.info</td>\n",
       "      <td>2020-08-24</td>\n",
       "      <td>http://www.stephenson.com/</td>\n",
       "    </tr>\n",
       "    <tr>\n",
       "      <th>2</th>\n",
       "      <td>6F94879bDAfE5a6</td>\n",
       "      <td>Roy</td>\n",
       "      <td>Berry</td>\n",
       "      <td>Murillo-Perry</td>\n",
       "      <td>sylhet</td>\n",
       "      <td>NaN</td>\n",
       "      <td>+1-539-402-0259</td>\n",
       "      <td>NaN</td>\n",
       "      <td>beckycarr@hogan.com</td>\n",
       "      <td>2020-03-25</td>\n",
       "      <td>http://www.lawrence.com/</td>\n",
       "    </tr>\n",
       "    <tr>\n",
       "      <th>3</th>\n",
       "      <td>5Cef8BFA16c5e3c</td>\n",
       "      <td>Linda</td>\n",
       "      <td>Olsen</td>\n",
       "      <td>Dominguez, Mcmillan and Donovan</td>\n",
       "      <td>Bensonview</td>\n",
       "      <td>NaN</td>\n",
       "      <td>001-808-617-6467x12895</td>\n",
       "      <td>NaN</td>\n",
       "      <td>stanleyblackwell@benson.org</td>\n",
       "      <td>2020-06-02</td>\n",
       "      <td>http://www.good-lyons.com/</td>\n",
       "    </tr>\n",
       "    <tr>\n",
       "      <th>4</th>\n",
       "      <td>053d585Ab6b3159</td>\n",
       "      <td>Joanna</td>\n",
       "      <td>NaN</td>\n",
       "      <td>Lang and Andrade\"</td>\n",
       "      <td>West Priscilla</td>\n",
       "      <td>Slovakia (Slovak Republic)</td>\n",
       "      <td>001-234-203-0635x76146</td>\n",
       "      <td>NaN</td>\n",
       "      <td>colinalvarado@miles.net</td>\n",
       "      <td>2021-04-17</td>\n",
       "      <td>https://goodwin-ingram.com/</td>\n",
       "    </tr>\n",
       "  </tbody>\n",
       "</table>\n",
       "</div>"
      ],
      "text/plain": [
       "       Customer Id First Name Last Name                          Company  \\\n",
       "0  DD37Cf93aecA6Dc     Sheryl    Baxter                  Rasmussen Group   \n",
       "2  6F94879bDAfE5a6        Roy     Berry                    Murillo-Perry   \n",
       "3  5Cef8BFA16c5e3c      Linda     Olsen  Dominguez, Mcmillan and Donovan   \n",
       "4  053d585Ab6b3159     Joanna       NaN                Lang and Andrade\"   \n",
       "\n",
       "             City                     Country                 Phone 1  \\\n",
       "0          sylhet                         NaN            229.077.5154   \n",
       "2          sylhet                         NaN         +1-539-402-0259   \n",
       "3      Bensonview                         NaN  001-808-617-6467x12895   \n",
       "4  West Priscilla  Slovakia (Slovak Republic)  001-234-203-0635x76146   \n",
       "\n",
       "            Phone 2                        Email Subscription Date  \\\n",
       "0  397.884.0519x718     zunigavanessa@smith.info        2020-08-24   \n",
       "2               NaN          beckycarr@hogan.com        2020-03-25   \n",
       "3               NaN  stanleyblackwell@benson.org        2020-06-02   \n",
       "4               NaN      colinalvarado@miles.net        2021-04-17   \n",
       "\n",
       "                       Website  \n",
       "0   http://www.stephenson.com/  \n",
       "2     http://www.lawrence.com/  \n",
       "3   http://www.good-lyons.com/  \n",
       "4  https://goodwin-ingram.com/  "
      ]
     },
     "execution_count": 142,
     "metadata": {},
     "output_type": "execute_result"
    }
   ],
   "source": [
    "# csv1.dropna(inplace=True)\n",
    "csv1.dropna(thresh=1)\n"
   ]
  },
  {
   "cell_type": "code",
   "execution_count": 143,
   "metadata": {},
   "outputs": [
    {
     "data": {
      "application/vnd.microsoft.datawrangler.viewer.v0+json": {
       "columns": [
        {
         "name": "index",
         "rawType": "int64",
         "type": "integer"
        },
        {
         "name": "Customer Id",
         "rawType": "object",
         "type": "unknown"
        },
        {
         "name": "First Name",
         "rawType": "object",
         "type": "unknown"
        },
        {
         "name": "Last Name",
         "rawType": "object",
         "type": "unknown"
        },
        {
         "name": "Company",
         "rawType": "object",
         "type": "unknown"
        },
        {
         "name": "City",
         "rawType": "object",
         "type": "unknown"
        },
        {
         "name": "Country",
         "rawType": "object",
         "type": "string"
        },
        {
         "name": "Phone 1",
         "rawType": "object",
         "type": "unknown"
        },
        {
         "name": "Phone 2",
         "rawType": "object",
         "type": "unknown"
        },
        {
         "name": "Email",
         "rawType": "object",
         "type": "unknown"
        },
        {
         "name": "Subscription Date",
         "rawType": "object",
         "type": "unknown"
        },
        {
         "name": "Website",
         "rawType": "object",
         "type": "unknown"
        }
       ],
       "ref": "189588b2-ba4e-4e08-ae59-86ff14d6b546",
       "rows": [
        [
         "0",
         "DD37Cf93aecA6Dc",
         "Sheryl",
         "Baxter",
         "Rasmussen Group",
         "sylhet",
         "Bangladesh",
         "229.077.5154",
         "397.884.0519x718",
         "zunigavanessa@smith.info",
         "2020-08-24",
         "http://www.stephenson.com/"
        ],
        [
         "1",
         null,
         null,
         null,
         null,
         null,
         "Bangladesh",
         null,
         null,
         null,
         null,
         null
        ],
        [
         "2",
         "6F94879bDAfE5a6",
         "Roy",
         "Berry",
         "Murillo-Perry",
         "sylhet",
         "Bangladesh",
         "+1-539-402-0259",
         null,
         "beckycarr@hogan.com",
         "2020-03-25",
         "http://www.lawrence.com/"
        ],
        [
         "3",
         "5Cef8BFA16c5e3c",
         "Linda",
         "Olsen",
         "Dominguez, Mcmillan and Donovan",
         "Bensonview",
         "Bangladesh",
         "001-808-617-6467x12895",
         null,
         "stanleyblackwell@benson.org",
         "2020-06-02",
         "http://www.good-lyons.com/"
        ],
        [
         "4",
         "053d585Ab6b3159",
         "Joanna",
         null,
         " Lang and Andrade\"",
         "West Priscilla",
         "Slovakia (Slovak Republic)",
         "001-234-203-0635x76146",
         null,
         "colinalvarado@miles.net",
         "2021-04-17",
         "https://goodwin-ingram.com/"
        ]
       ],
       "shape": {
        "columns": 11,
        "rows": 5
       }
      },
      "text/html": [
       "<div>\n",
       "<style scoped>\n",
       "    .dataframe tbody tr th:only-of-type {\n",
       "        vertical-align: middle;\n",
       "    }\n",
       "\n",
       "    .dataframe tbody tr th {\n",
       "        vertical-align: top;\n",
       "    }\n",
       "\n",
       "    .dataframe thead th {\n",
       "        text-align: right;\n",
       "    }\n",
       "</style>\n",
       "<table border=\"1\" class=\"dataframe\">\n",
       "  <thead>\n",
       "    <tr style=\"text-align: right;\">\n",
       "      <th></th>\n",
       "      <th>Customer Id</th>\n",
       "      <th>First Name</th>\n",
       "      <th>Last Name</th>\n",
       "      <th>Company</th>\n",
       "      <th>City</th>\n",
       "      <th>Country</th>\n",
       "      <th>Phone 1</th>\n",
       "      <th>Phone 2</th>\n",
       "      <th>Email</th>\n",
       "      <th>Subscription Date</th>\n",
       "      <th>Website</th>\n",
       "    </tr>\n",
       "  </thead>\n",
       "  <tbody>\n",
       "    <tr>\n",
       "      <th>0</th>\n",
       "      <td>DD37Cf93aecA6Dc</td>\n",
       "      <td>Sheryl</td>\n",
       "      <td>Baxter</td>\n",
       "      <td>Rasmussen Group</td>\n",
       "      <td>sylhet</td>\n",
       "      <td>Bangladesh</td>\n",
       "      <td>229.077.5154</td>\n",
       "      <td>397.884.0519x718</td>\n",
       "      <td>zunigavanessa@smith.info</td>\n",
       "      <td>2020-08-24</td>\n",
       "      <td>http://www.stephenson.com/</td>\n",
       "    </tr>\n",
       "    <tr>\n",
       "      <th>1</th>\n",
       "      <td>NaN</td>\n",
       "      <td>NaN</td>\n",
       "      <td>NaN</td>\n",
       "      <td>NaN</td>\n",
       "      <td>NaN</td>\n",
       "      <td>Bangladesh</td>\n",
       "      <td>NaN</td>\n",
       "      <td>NaN</td>\n",
       "      <td>NaN</td>\n",
       "      <td>NaN</td>\n",
       "      <td>NaN</td>\n",
       "    </tr>\n",
       "    <tr>\n",
       "      <th>2</th>\n",
       "      <td>6F94879bDAfE5a6</td>\n",
       "      <td>Roy</td>\n",
       "      <td>Berry</td>\n",
       "      <td>Murillo-Perry</td>\n",
       "      <td>sylhet</td>\n",
       "      <td>Bangladesh</td>\n",
       "      <td>+1-539-402-0259</td>\n",
       "      <td>NaN</td>\n",
       "      <td>beckycarr@hogan.com</td>\n",
       "      <td>2020-03-25</td>\n",
       "      <td>http://www.lawrence.com/</td>\n",
       "    </tr>\n",
       "    <tr>\n",
       "      <th>3</th>\n",
       "      <td>5Cef8BFA16c5e3c</td>\n",
       "      <td>Linda</td>\n",
       "      <td>Olsen</td>\n",
       "      <td>Dominguez, Mcmillan and Donovan</td>\n",
       "      <td>Bensonview</td>\n",
       "      <td>Bangladesh</td>\n",
       "      <td>001-808-617-6467x12895</td>\n",
       "      <td>NaN</td>\n",
       "      <td>stanleyblackwell@benson.org</td>\n",
       "      <td>2020-06-02</td>\n",
       "      <td>http://www.good-lyons.com/</td>\n",
       "    </tr>\n",
       "    <tr>\n",
       "      <th>4</th>\n",
       "      <td>053d585Ab6b3159</td>\n",
       "      <td>Joanna</td>\n",
       "      <td>NaN</td>\n",
       "      <td>Lang and Andrade\"</td>\n",
       "      <td>West Priscilla</td>\n",
       "      <td>Slovakia (Slovak Republic)</td>\n",
       "      <td>001-234-203-0635x76146</td>\n",
       "      <td>NaN</td>\n",
       "      <td>colinalvarado@miles.net</td>\n",
       "      <td>2021-04-17</td>\n",
       "      <td>https://goodwin-ingram.com/</td>\n",
       "    </tr>\n",
       "  </tbody>\n",
       "</table>\n",
       "</div>"
      ],
      "text/plain": [
       "       Customer Id First Name Last Name                          Company  \\\n",
       "0  DD37Cf93aecA6Dc     Sheryl    Baxter                  Rasmussen Group   \n",
       "1              NaN        NaN       NaN                              NaN   \n",
       "2  6F94879bDAfE5a6        Roy     Berry                    Murillo-Perry   \n",
       "3  5Cef8BFA16c5e3c      Linda     Olsen  Dominguez, Mcmillan and Donovan   \n",
       "4  053d585Ab6b3159     Joanna       NaN                Lang and Andrade\"   \n",
       "\n",
       "             City                     Country                 Phone 1  \\\n",
       "0          sylhet                  Bangladesh            229.077.5154   \n",
       "1             NaN                  Bangladesh                     NaN   \n",
       "2          sylhet                  Bangladesh         +1-539-402-0259   \n",
       "3      Bensonview                  Bangladesh  001-808-617-6467x12895   \n",
       "4  West Priscilla  Slovakia (Slovak Republic)  001-234-203-0635x76146   \n",
       "\n",
       "            Phone 2                        Email Subscription Date  \\\n",
       "0  397.884.0519x718     zunigavanessa@smith.info        2020-08-24   \n",
       "1               NaN                          NaN               NaN   \n",
       "2               NaN          beckycarr@hogan.com        2020-03-25   \n",
       "3               NaN  stanleyblackwell@benson.org        2020-06-02   \n",
       "4               NaN      colinalvarado@miles.net        2021-04-17   \n",
       "\n",
       "                       Website  \n",
       "0   http://www.stephenson.com/  \n",
       "1                          NaN  \n",
       "2     http://www.lawrence.com/  \n",
       "3   http://www.good-lyons.com/  \n",
       "4  https://goodwin-ingram.com/  "
      ]
     },
     "execution_count": 143,
     "metadata": {},
     "output_type": "execute_result"
    }
   ],
   "source": [
    "csv1.fillna({\"Country\": \"Bangladesh\"})"
   ]
  },
  {
   "cell_type": "code",
   "execution_count": 144,
   "metadata": {},
   "outputs": [
    {
     "name": "stderr",
     "output_type": "stream",
     "text": [
      "C:\\Users\\VICTUS\\AppData\\Local\\Temp\\ipykernel_9620\\3541729179.py:2: FutureWarning: DataFrame.fillna with 'method' is deprecated and will raise in a future version. Use obj.ffill() or obj.bfill() instead.\n",
      "  csv1.fillna(method=\"ffill\")\n"
     ]
    },
    {
     "data": {
      "application/vnd.microsoft.datawrangler.viewer.v0+json": {
       "columns": [
        {
         "name": "index",
         "rawType": "int64",
         "type": "integer"
        },
        {
         "name": "Customer Id",
         "rawType": "object",
         "type": "string"
        },
        {
         "name": "First Name",
         "rawType": "object",
         "type": "string"
        },
        {
         "name": "Last Name",
         "rawType": "object",
         "type": "string"
        },
        {
         "name": "Company",
         "rawType": "object",
         "type": "string"
        },
        {
         "name": "City",
         "rawType": "object",
         "type": "string"
        },
        {
         "name": "Country",
         "rawType": "object",
         "type": "unknown"
        },
        {
         "name": "Phone 1",
         "rawType": "object",
         "type": "string"
        },
        {
         "name": "Phone 2",
         "rawType": "object",
         "type": "string"
        },
        {
         "name": "Email",
         "rawType": "object",
         "type": "string"
        },
        {
         "name": "Subscription Date",
         "rawType": "object",
         "type": "string"
        },
        {
         "name": "Website",
         "rawType": "object",
         "type": "string"
        }
       ],
       "ref": "c7e01c3b-07ca-4e1e-8b40-8551196b13f7",
       "rows": [
        [
         "0",
         "DD37Cf93aecA6Dc",
         "Sheryl",
         "Baxter",
         "Rasmussen Group",
         "sylhet",
         null,
         "229.077.5154",
         "397.884.0519x718",
         "zunigavanessa@smith.info",
         "2020-08-24",
         "http://www.stephenson.com/"
        ],
        [
         "1",
         "DD37Cf93aecA6Dc",
         "Sheryl",
         "Baxter",
         "Rasmussen Group",
         "sylhet",
         null,
         "229.077.5154",
         "397.884.0519x718",
         "zunigavanessa@smith.info",
         "2020-08-24",
         "http://www.stephenson.com/"
        ],
        [
         "2",
         "6F94879bDAfE5a6",
         "Roy",
         "Berry",
         "Murillo-Perry",
         "sylhet",
         null,
         "+1-539-402-0259",
         "397.884.0519x718",
         "beckycarr@hogan.com",
         "2020-03-25",
         "http://www.lawrence.com/"
        ],
        [
         "3",
         "5Cef8BFA16c5e3c",
         "Linda",
         "Olsen",
         "Dominguez, Mcmillan and Donovan",
         "Bensonview",
         null,
         "001-808-617-6467x12895",
         "397.884.0519x718",
         "stanleyblackwell@benson.org",
         "2020-06-02",
         "http://www.good-lyons.com/"
        ],
        [
         "4",
         "053d585Ab6b3159",
         "Joanna",
         "Olsen",
         " Lang and Andrade\"",
         "West Priscilla",
         "Slovakia (Slovak Republic)",
         "001-234-203-0635x76146",
         "397.884.0519x718",
         "colinalvarado@miles.net",
         "2021-04-17",
         "https://goodwin-ingram.com/"
        ]
       ],
       "shape": {
        "columns": 11,
        "rows": 5
       }
      },
      "text/html": [
       "<div>\n",
       "<style scoped>\n",
       "    .dataframe tbody tr th:only-of-type {\n",
       "        vertical-align: middle;\n",
       "    }\n",
       "\n",
       "    .dataframe tbody tr th {\n",
       "        vertical-align: top;\n",
       "    }\n",
       "\n",
       "    .dataframe thead th {\n",
       "        text-align: right;\n",
       "    }\n",
       "</style>\n",
       "<table border=\"1\" class=\"dataframe\">\n",
       "  <thead>\n",
       "    <tr style=\"text-align: right;\">\n",
       "      <th></th>\n",
       "      <th>Customer Id</th>\n",
       "      <th>First Name</th>\n",
       "      <th>Last Name</th>\n",
       "      <th>Company</th>\n",
       "      <th>City</th>\n",
       "      <th>Country</th>\n",
       "      <th>Phone 1</th>\n",
       "      <th>Phone 2</th>\n",
       "      <th>Email</th>\n",
       "      <th>Subscription Date</th>\n",
       "      <th>Website</th>\n",
       "    </tr>\n",
       "  </thead>\n",
       "  <tbody>\n",
       "    <tr>\n",
       "      <th>0</th>\n",
       "      <td>DD37Cf93aecA6Dc</td>\n",
       "      <td>Sheryl</td>\n",
       "      <td>Baxter</td>\n",
       "      <td>Rasmussen Group</td>\n",
       "      <td>sylhet</td>\n",
       "      <td>NaN</td>\n",
       "      <td>229.077.5154</td>\n",
       "      <td>397.884.0519x718</td>\n",
       "      <td>zunigavanessa@smith.info</td>\n",
       "      <td>2020-08-24</td>\n",
       "      <td>http://www.stephenson.com/</td>\n",
       "    </tr>\n",
       "    <tr>\n",
       "      <th>1</th>\n",
       "      <td>DD37Cf93aecA6Dc</td>\n",
       "      <td>Sheryl</td>\n",
       "      <td>Baxter</td>\n",
       "      <td>Rasmussen Group</td>\n",
       "      <td>sylhet</td>\n",
       "      <td>NaN</td>\n",
       "      <td>229.077.5154</td>\n",
       "      <td>397.884.0519x718</td>\n",
       "      <td>zunigavanessa@smith.info</td>\n",
       "      <td>2020-08-24</td>\n",
       "      <td>http://www.stephenson.com/</td>\n",
       "    </tr>\n",
       "    <tr>\n",
       "      <th>2</th>\n",
       "      <td>6F94879bDAfE5a6</td>\n",
       "      <td>Roy</td>\n",
       "      <td>Berry</td>\n",
       "      <td>Murillo-Perry</td>\n",
       "      <td>sylhet</td>\n",
       "      <td>NaN</td>\n",
       "      <td>+1-539-402-0259</td>\n",
       "      <td>397.884.0519x718</td>\n",
       "      <td>beckycarr@hogan.com</td>\n",
       "      <td>2020-03-25</td>\n",
       "      <td>http://www.lawrence.com/</td>\n",
       "    </tr>\n",
       "    <tr>\n",
       "      <th>3</th>\n",
       "      <td>5Cef8BFA16c5e3c</td>\n",
       "      <td>Linda</td>\n",
       "      <td>Olsen</td>\n",
       "      <td>Dominguez, Mcmillan and Donovan</td>\n",
       "      <td>Bensonview</td>\n",
       "      <td>NaN</td>\n",
       "      <td>001-808-617-6467x12895</td>\n",
       "      <td>397.884.0519x718</td>\n",
       "      <td>stanleyblackwell@benson.org</td>\n",
       "      <td>2020-06-02</td>\n",
       "      <td>http://www.good-lyons.com/</td>\n",
       "    </tr>\n",
       "    <tr>\n",
       "      <th>4</th>\n",
       "      <td>053d585Ab6b3159</td>\n",
       "      <td>Joanna</td>\n",
       "      <td>Olsen</td>\n",
       "      <td>Lang and Andrade\"</td>\n",
       "      <td>West Priscilla</td>\n",
       "      <td>Slovakia (Slovak Republic)</td>\n",
       "      <td>001-234-203-0635x76146</td>\n",
       "      <td>397.884.0519x718</td>\n",
       "      <td>colinalvarado@miles.net</td>\n",
       "      <td>2021-04-17</td>\n",
       "      <td>https://goodwin-ingram.com/</td>\n",
       "    </tr>\n",
       "  </tbody>\n",
       "</table>\n",
       "</div>"
      ],
      "text/plain": [
       "       Customer Id First Name Last Name                          Company  \\\n",
       "0  DD37Cf93aecA6Dc     Sheryl    Baxter                  Rasmussen Group   \n",
       "1  DD37Cf93aecA6Dc     Sheryl    Baxter                  Rasmussen Group   \n",
       "2  6F94879bDAfE5a6        Roy     Berry                    Murillo-Perry   \n",
       "3  5Cef8BFA16c5e3c      Linda     Olsen  Dominguez, Mcmillan and Donovan   \n",
       "4  053d585Ab6b3159     Joanna     Olsen                Lang and Andrade\"   \n",
       "\n",
       "             City                     Country                 Phone 1  \\\n",
       "0          sylhet                         NaN            229.077.5154   \n",
       "1          sylhet                         NaN            229.077.5154   \n",
       "2          sylhet                         NaN         +1-539-402-0259   \n",
       "3      Bensonview                         NaN  001-808-617-6467x12895   \n",
       "4  West Priscilla  Slovakia (Slovak Republic)  001-234-203-0635x76146   \n",
       "\n",
       "            Phone 2                        Email Subscription Date  \\\n",
       "0  397.884.0519x718     zunigavanessa@smith.info        2020-08-24   \n",
       "1  397.884.0519x718     zunigavanessa@smith.info        2020-08-24   \n",
       "2  397.884.0519x718          beckycarr@hogan.com        2020-03-25   \n",
       "3  397.884.0519x718  stanleyblackwell@benson.org        2020-06-02   \n",
       "4  397.884.0519x718      colinalvarado@miles.net        2021-04-17   \n",
       "\n",
       "                       Website  \n",
       "0   http://www.stephenson.com/  \n",
       "1   http://www.stephenson.com/  \n",
       "2     http://www.lawrence.com/  \n",
       "3   http://www.good-lyons.com/  \n",
       "4  https://goodwin-ingram.com/  "
      ]
     },
     "execution_count": 144,
     "metadata": {},
     "output_type": "execute_result"
    }
   ],
   "source": [
    "# csv1.fillna(method=\"bfill\",axis =0)\n",
    "csv1.fillna(method=\"ffill\")"
   ]
  },
  {
   "cell_type": "code",
   "execution_count": 145,
   "metadata": {},
   "outputs": [
    {
     "data": {
      "application/vnd.microsoft.datawrangler.viewer.v0+json": {
       "columns": [
        {
         "name": "index",
         "rawType": "int64",
         "type": "integer"
        },
        {
         "name": "Customer Id",
         "rawType": "object",
         "type": "string"
        },
        {
         "name": "First Name",
         "rawType": "object",
         "type": "string"
        },
        {
         "name": "Last Name",
         "rawType": "object",
         "type": "string"
        },
        {
         "name": "Company",
         "rawType": "object",
         "type": "string"
        },
        {
         "name": "City",
         "rawType": "object",
         "type": "string"
        },
        {
         "name": "Country",
         "rawType": "object",
         "type": "unknown"
        },
        {
         "name": "Phone 1",
         "rawType": "object",
         "type": "string"
        },
        {
         "name": "Phone 2",
         "rawType": "object",
         "type": "unknown"
        },
        {
         "name": "Email",
         "rawType": "object",
         "type": "string"
        },
        {
         "name": "Subscription Date",
         "rawType": "object",
         "type": "string"
        },
        {
         "name": "Website",
         "rawType": "object",
         "type": "string"
        }
       ],
       "ref": "825d64c9-e9a8-4ade-aaf6-faccc2d4bfa4",
       "rows": [
        [
         "0",
         "DD37Cf93aecA6Dc",
         "Sheryl",
         "Baxter",
         "Rasmussen Group",
         "sylhet",
         "python",
         "229.077.5154",
         "397.884.0519x718",
         "zunigavanessa@smith.info",
         "2020-08-24",
         "http://www.stephenson.com/"
        ],
        [
         "1",
         "python",
         "python",
         "python",
         "python",
         "python",
         "python",
         "python",
         "python",
         "python",
         "python",
         "python"
        ],
        [
         "2",
         "6F94879bDAfE5a6",
         "Roy",
         "Berry",
         "Murillo-Perry",
         "sylhet",
         null,
         "+1-539-402-0259",
         "python",
         "beckycarr@hogan.com",
         "2020-03-25",
         "http://www.lawrence.com/"
        ],
        [
         "3",
         "5Cef8BFA16c5e3c",
         "Linda",
         "Olsen",
         "Dominguez, Mcmillan and Donovan",
         "Bensonview",
         null,
         "001-808-617-6467x12895",
         null,
         "stanleyblackwell@benson.org",
         "2020-06-02",
         "http://www.good-lyons.com/"
        ],
        [
         "4",
         "053d585Ab6b3159",
         "Joanna",
         "python",
         " Lang and Andrade\"",
         "West Priscilla",
         "Slovakia (Slovak Republic)",
         "001-234-203-0635x76146",
         null,
         "colinalvarado@miles.net",
         "2021-04-17",
         "https://goodwin-ingram.com/"
        ]
       ],
       "shape": {
        "columns": 11,
        "rows": 5
       }
      },
      "text/html": [
       "<div>\n",
       "<style scoped>\n",
       "    .dataframe tbody tr th:only-of-type {\n",
       "        vertical-align: middle;\n",
       "    }\n",
       "\n",
       "    .dataframe tbody tr th {\n",
       "        vertical-align: top;\n",
       "    }\n",
       "\n",
       "    .dataframe thead th {\n",
       "        text-align: right;\n",
       "    }\n",
       "</style>\n",
       "<table border=\"1\" class=\"dataframe\">\n",
       "  <thead>\n",
       "    <tr style=\"text-align: right;\">\n",
       "      <th></th>\n",
       "      <th>Customer Id</th>\n",
       "      <th>First Name</th>\n",
       "      <th>Last Name</th>\n",
       "      <th>Company</th>\n",
       "      <th>City</th>\n",
       "      <th>Country</th>\n",
       "      <th>Phone 1</th>\n",
       "      <th>Phone 2</th>\n",
       "      <th>Email</th>\n",
       "      <th>Subscription Date</th>\n",
       "      <th>Website</th>\n",
       "    </tr>\n",
       "  </thead>\n",
       "  <tbody>\n",
       "    <tr>\n",
       "      <th>0</th>\n",
       "      <td>DD37Cf93aecA6Dc</td>\n",
       "      <td>Sheryl</td>\n",
       "      <td>Baxter</td>\n",
       "      <td>Rasmussen Group</td>\n",
       "      <td>sylhet</td>\n",
       "      <td>python</td>\n",
       "      <td>229.077.5154</td>\n",
       "      <td>397.884.0519x718</td>\n",
       "      <td>zunigavanessa@smith.info</td>\n",
       "      <td>2020-08-24</td>\n",
       "      <td>http://www.stephenson.com/</td>\n",
       "    </tr>\n",
       "    <tr>\n",
       "      <th>1</th>\n",
       "      <td>python</td>\n",
       "      <td>python</td>\n",
       "      <td>python</td>\n",
       "      <td>python</td>\n",
       "      <td>python</td>\n",
       "      <td>python</td>\n",
       "      <td>python</td>\n",
       "      <td>python</td>\n",
       "      <td>python</td>\n",
       "      <td>python</td>\n",
       "      <td>python</td>\n",
       "    </tr>\n",
       "    <tr>\n",
       "      <th>2</th>\n",
       "      <td>6F94879bDAfE5a6</td>\n",
       "      <td>Roy</td>\n",
       "      <td>Berry</td>\n",
       "      <td>Murillo-Perry</td>\n",
       "      <td>sylhet</td>\n",
       "      <td>NaN</td>\n",
       "      <td>+1-539-402-0259</td>\n",
       "      <td>python</td>\n",
       "      <td>beckycarr@hogan.com</td>\n",
       "      <td>2020-03-25</td>\n",
       "      <td>http://www.lawrence.com/</td>\n",
       "    </tr>\n",
       "    <tr>\n",
       "      <th>3</th>\n",
       "      <td>5Cef8BFA16c5e3c</td>\n",
       "      <td>Linda</td>\n",
       "      <td>Olsen</td>\n",
       "      <td>Dominguez, Mcmillan and Donovan</td>\n",
       "      <td>Bensonview</td>\n",
       "      <td>NaN</td>\n",
       "      <td>001-808-617-6467x12895</td>\n",
       "      <td>NaN</td>\n",
       "      <td>stanleyblackwell@benson.org</td>\n",
       "      <td>2020-06-02</td>\n",
       "      <td>http://www.good-lyons.com/</td>\n",
       "    </tr>\n",
       "    <tr>\n",
       "      <th>4</th>\n",
       "      <td>053d585Ab6b3159</td>\n",
       "      <td>Joanna</td>\n",
       "      <td>python</td>\n",
       "      <td>Lang and Andrade\"</td>\n",
       "      <td>West Priscilla</td>\n",
       "      <td>Slovakia (Slovak Republic)</td>\n",
       "      <td>001-234-203-0635x76146</td>\n",
       "      <td>NaN</td>\n",
       "      <td>colinalvarado@miles.net</td>\n",
       "      <td>2021-04-17</td>\n",
       "      <td>https://goodwin-ingram.com/</td>\n",
       "    </tr>\n",
       "  </tbody>\n",
       "</table>\n",
       "</div>"
      ],
      "text/plain": [
       "       Customer Id First Name Last Name                          Company  \\\n",
       "0  DD37Cf93aecA6Dc     Sheryl    Baxter                  Rasmussen Group   \n",
       "1           python     python    python                           python   \n",
       "2  6F94879bDAfE5a6        Roy     Berry                    Murillo-Perry   \n",
       "3  5Cef8BFA16c5e3c      Linda     Olsen  Dominguez, Mcmillan and Donovan   \n",
       "4  053d585Ab6b3159     Joanna    python                Lang and Andrade\"   \n",
       "\n",
       "             City                     Country                 Phone 1  \\\n",
       "0          sylhet                      python            229.077.5154   \n",
       "1          python                      python                  python   \n",
       "2          sylhet                         NaN         +1-539-402-0259   \n",
       "3      Bensonview                         NaN  001-808-617-6467x12895   \n",
       "4  West Priscilla  Slovakia (Slovak Republic)  001-234-203-0635x76146   \n",
       "\n",
       "            Phone 2                        Email Subscription Date  \\\n",
       "0  397.884.0519x718     zunigavanessa@smith.info        2020-08-24   \n",
       "1            python                       python            python   \n",
       "2            python          beckycarr@hogan.com        2020-03-25   \n",
       "3               NaN  stanleyblackwell@benson.org        2020-06-02   \n",
       "4               NaN      colinalvarado@miles.net        2021-04-17   \n",
       "\n",
       "                       Website  \n",
       "0   http://www.stephenson.com/  \n",
       "1                       python  \n",
       "2     http://www.lawrence.com/  \n",
       "3   http://www.good-lyons.com/  \n",
       "4  https://goodwin-ingram.com/  "
      ]
     },
     "execution_count": 145,
     "metadata": {},
     "output_type": "execute_result"
    }
   ],
   "source": [
    "csv1.fillna(\"python\",limit=2)\n"
   ]
  },
  {
   "cell_type": "markdown",
   "metadata": {},
   "source": [
    "***replace***"
   ]
  },
  {
   "cell_type": "code",
   "execution_count": 146,
   "metadata": {},
   "outputs": [
    {
     "name": "stdout",
     "output_type": "stream",
     "text": [
      "   a   b   c   d   e      f\n",
      "0  1   9  17   1   9  False\n",
      "1  2   9  19   2   9  False\n",
      "2  3   9  21   3  11   True\n",
      "3  4   9  23   4  13   True\n",
      "4  5  10  25  55  15   True\n"
     ]
    },
    {
     "name": "stderr",
     "output_type": "stream",
     "text": [
      "C:\\Users\\VICTUS\\AppData\\Local\\Temp\\ipykernel_9620\\4162937792.py:11: FutureWarning: The 'method' keyword in DataFrame.replace is deprecated and will be removed in a future version.\n",
      "  csv2.replace([6,7,8],method=\"bfill\",limit=3,inplace=True)\n"
     ]
    }
   ],
   "source": [
    "csv2 = pd.read_csv(\"files/test.csv\")\n",
    "\n",
    "# csv2.replace(to_replace= 1, value=5) \n",
    "\n",
    "# csv2.replace([1,2,3,4,5],6)\n",
    "\n",
    "# csv2.replace([1,2,3,4,5],4,regex=True)\n",
    "\n",
    "# csv2.replace({\"a\":[1,2,3,]},7,regex=True)\n",
    "\n",
    "csv2.replace([6,7,8],method=\"bfill\",limit=3,inplace=True)\n",
    "print(csv2)"
   ]
  },
  {
   "cell_type": "markdown",
   "metadata": {},
   "source": [
    "***Interpolate***"
   ]
  },
  {
   "cell_type": "code",
   "execution_count": 148,
   "metadata": {},
   "outputs": [],
   "source": [
    "# only works with int\n",
    "\n",
    "# csv1.interpolate(method=\"ffill\",axis=0,limit=3)\n",
    "# csv1.interpolate(limit_direction=\"both\" ,axis=0)\n",
    "# csv1.interpolate(limit_area= \"outside\")\n",
    "\n"
   ]
  },
  {
   "cell_type": "code",
   "execution_count": null,
   "metadata": {},
   "outputs": [],
   "source": []
  },
  {
   "cell_type": "markdown",
   "metadata": {},
   "source": [
    "## Notes \n",
    "\n",
    "This notebook demonstrates various built-in pandas  functions for data manipulation and cleaning. Below is an organized summary of the key functions and their purposes:\n",
    "\n",
    "---\n",
    "\n",
    "### **1. Data Import and Display**\n",
    "- **`pd.read_csv()`**  \n",
    "    Reads a CSV file into a DataFrame.\n",
    "\n",
    "- **`.head()`**  \n",
    "    Displays the first n rows of the DataFrame (default is 5).\n",
    "\n",
    "\n",
    "---\n",
    "\n",
    "### **2. Data Inspection**\n",
    "- **`.columns`**  \n",
    "    Returns the column labels of the DataFrame.\n",
    "\n",
    "- **`.describe()`**  \n",
    "    Generates descriptive statistics of the DataFrame.\n",
    "\n",
    "- **`.index.array`**  \n",
    "    Returns the index as an array.\n",
    "\n",
    "- **`.to_numpy()`**  \n",
    "    Converts the DataFrame to a NumPy array.\n",
    "\n",
    "- **`np.array()` / `np.asarray()`**  \n",
    "    Converts input data to a NumPy array.\n",
    "\n",
    "---\n",
    "\n",
    "### **3. Sorting and Indexing**\n",
    "- **`.sort_index()`**  \n",
    "    Sorts the DataFrame by its index.\n",
    "\n",
    "- **`.sort_values()`** *(commented)*  \n",
    "    Sorts the DataFrame by the values of one or more columns.\n",
    "\n",
    "---\n",
    "\n",
    "### **4. Data Selection and Assignment**\n",
    "- **`.loc[]`**  \n",
    "    Accesses a group of rows and columns by labels or boolean array.\n",
    "\n",
    "- **`.iloc[]`**  \n",
    "    Accesses rows and columns by integer position.\n",
    "\n",
    "---\n",
    "\n",
    "### **5. Data Modification**\n",
    "- **`.drop()`**  \n",
    "    Removes specified labels from rows or columns.\n",
    "\n",
    "---\n",
    "\n",
    "### **6. Handling Missing Data**\n",
    "- **`.dropna()`**  \n",
    "    Removes missing values by row or column.\n",
    "\n",
    "- **`.fillna()`**  \n",
    "    Fills NA/NaN values using a specified method or value.\n",
    "\n",
    "- **`.interpolate()`**  \n",
    "    Fills NA values using interpolation.\n",
    "\n",
    "---\n",
    "\n",
    "### **7. Data Replacement**\n",
    "- **`.replace()`**  \n",
    "    Replaces values given in to_replace with value.\n",
    "\n",
    "---\n",
    "\n",
    "### **Summary Table**\n",
    "\n",
    "| Function                | Purpose                                      |\n",
    "|-------------------------|----------------------------------------------|\n",
    "| `pd.read_csv()`         | Read CSV file into DataFrame                 |\n",
    "| `.head()`               | Show first n rows                            |\n",
    "| `print()`               | Print output                                 |\n",
    "| `.columns`              | Get DataFrame columns                        |\n",
    "| `.describe()`           | Summary statistics                           |\n",
    "| `.index.array`          | Get index as array                           |\n",
    "| `.to_numpy()`           | DataFrame to NumPy array                     |\n",
    "| `np.array()`/`asarray()`| Convert to NumPy array                       |\n",
    "| `.sort_index()`         | Sort by index                                |\n",
    "| `.loc[]`/`.iloc[]`      | Select by label/position                     |\n",
    "| `.drop()`               | Remove rows/columns                          |\n",
    "| `.dropna()`             | Remove missing data                          |\n",
    "| `.fillna()`             | Fill missing data                            |\n",
    "| `.interpolate()`        | Interpolate missing data                     |\n",
    "| `.replace()`            | Replace values                               |\n",
    "\n",
    "---\n",
    "\n",
    "These functions are essential for efficient data analysis and preprocessing in pandas and numpy."
   ]
  },
  {
   "cell_type": "markdown",
   "metadata": {},
   "source": []
  }
 ],
 "metadata": {
  "kernelspec": {
   "display_name": "Python 3",
   "language": "python",
   "name": "python3"
  },
  "language_info": {
   "codemirror_mode": {
    "name": "ipython",
    "version": 3
   },
   "file_extension": ".py",
   "mimetype": "text/x-python",
   "name": "python",
   "nbconvert_exporter": "python",
   "pygments_lexer": "ipython3",
   "version": "3.11.9"
  }
 },
 "nbformat": 4,
 "nbformat_minor": 2
}
